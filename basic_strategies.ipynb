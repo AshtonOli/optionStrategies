{
 "cells": [
  {
   "cell_type": "code",
   "execution_count": 1,
   "id": "2ca1dd42",
   "metadata": {},
   "outputs": [],
   "source": [
    "from src.option_strategy import OptionsStrategy\n",
    "import src.ploting as ploting"
   ]
  },
  {
   "cell_type": "markdown",
   "id": "a3ce9ac3",
   "metadata": {},
   "source": [
    "## Visualisation of basic option strategies"
   ]
  },
  {
   "cell_type": "markdown",
   "id": "2e36acfb",
   "metadata": {},
   "source": [
    "### Bear put spread\n",
    "METHOD: buy put option with high strike, sell put option with low strike<br>\n",
    "REASON: bearish market outlook, but cover risk of increasing prices<br>\n",
    "RISK: difference in premiums, i.e. (sold premium - bought premium) * 100<br>\n",
    "REWARD: difference in strikes less the difference in premiums, i.e. ((long strike - short strike) - (sold premium - bought premium))*100"
   ]
  },
  {
   "cell_type": "code",
   "execution_count": 2,
   "id": "fd44e25e",
   "metadata": {},
   "outputs": [
    {
     "data": {
      "application/vnd.plotly.v1+json": {
       "config": {
        "plotlyServerURL": "https://plot.ly"
       },
       "data": [
        {
         "hovertemplate": "<b>Bear Put Spread</b><br>Stock Price: $%{x:.2f}<br>P&L: $%{y:.2f}<br>Initial Cost: $-400.00<br>Max Profit: $600.00<br>Max Loss: $-400.00",
         "line": {
          "color": "#1f77b4",
          "width": 3
         },
         "mode": "lines",
         "name": "Bear Put Spread",
         "type": "scatter",
         "x": {
          "bdata": "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",
          "dtype": "f8"
         },
         "xaxis": "x",
         "y": [
          600,
          600,
          600,
          600,
          600,
          600,
          600,
          600,
          600,
          600,
          600,
          600,
          600,
          600,
          600,
          600,
          600,
          600,
          600,
          600,
          600,
          600,
          600,
          600,
          600,
          600,
          600,
          600,
          600,
          600,
          600,
          600,
          600,
          600,
          600,
          600,
          600,
          600,
          600,
          600,
          600,
          600,
          600,
          600,
          600,
          600,
          600,
          600,
          600,
          600,
          600,
          600,
          600,
          600,
          600,
          600,
          600,
          600,
          600,
          600,
          600,
          600,
          600,
          600,
          600,
          600,
          600,
          600,
          600,
          600,
          600,
          600,
          600,
          600,
          600,
          600,
          600,
          600,
          600,
          600,
          600,
          600,
          600,
          600,
          600,
          600,
          600,
          600,
          600,
          600,
          600,
          600,
          600,
          600,
          600,
          600,
          600,
          600,
          600,
          600,
          600,
          600,
          600,
          600,
          600,
          600,
          600,
          600,
          600,
          600,
          600,
          600,
          600,
          600,
          600,
          600,
          600,
          600,
          600,
          600,
          600,
          600,
          600,
          600,
          600,
          600,
          600,
          600,
          600,
          600,
          600,
          600,
          600,
          600,
          600,
          600,
          600,
          600,
          600,
          600,
          600,
          600,
          600,
          600,
          600,
          600,
          600,
          600,
          600,
          600,
          600,
          600,
          600,
          600,
          600,
          600,
          600,
          600,
          600,
          600,
          600,
          600,
          600,
          600,
          600,
          600,
          600,
          600,
          600,
          600,
          600,
          600,
          600,
          600,
          600,
          600,
          600,
          600,
          600,
          600,
          600,
          600,
          600,
          600,
          600,
          600,
          600,
          600,
          600,
          600,
          600,
          550,
          500,
          450,
          400,
          350,
          300,
          250,
          200,
          150,
          100,
          50,
          0,
          -50,
          -100,
          -150,
          -200,
          -250,
          -300,
          -350,
          -400,
          -400,
          -400,
          -400,
          -400,
          -400,
          -400,
          -400,
          -400,
          -400,
          -400,
          -400,
          -400,
          -400,
          -400,
          -400,
          -400,
          -400,
          -400,
          -400,
          -400,
          -400,
          -400,
          -400,
          -400,
          -400,
          -400,
          -400,
          -400,
          -400,
          -400,
          -400,
          -400,
          -400,
          -400,
          -400,
          -400,
          -400,
          -400,
          -400,
          -400,
          -400,
          -400,
          -400,
          -400,
          -400,
          -400,
          -400,
          -400,
          -400,
          -400,
          -400,
          -400,
          -400,
          -400,
          -400,
          -400,
          -400,
          -400,
          -400,
          -400,
          -400,
          -400,
          -400,
          -400,
          -400,
          -400,
          -400,
          -400,
          -400,
          -400,
          -400,
          -400,
          -400,
          -400,
          -400,
          -400,
          -400,
          -400,
          -400,
          -400,
          -400,
          -400,
          -400,
          -400,
          -400,
          -400,
          -400,
          -400,
          -400,
          -400,
          -400,
          -400,
          -400,
          -400,
          -400,
          -400,
          -400,
          -400,
          -400,
          -400,
          -400,
          -400,
          -400,
          -400,
          -400,
          -400,
          -400,
          -400,
          -400,
          -400,
          -400,
          -400,
          -400,
          -400,
          -400,
          -400,
          -400,
          -400,
          -400,
          -400,
          -400,
          -400,
          -400,
          -400,
          -400,
          -400,
          -400,
          -400,
          -400,
          -400,
          -400,
          -400,
          -400,
          -400,
          -400,
          -400,
          -400,
          -400,
          -400,
          -400,
          -400,
          -400,
          -400,
          -400,
          -400,
          -400,
          -400,
          -400,
          -400,
          -400,
          -400,
          -400,
          -400,
          -400,
          -400,
          -400,
          -400,
          -400,
          -400,
          -400,
          -400,
          -400,
          -400,
          -400,
          -400,
          -400,
          -400,
          -400,
          -400,
          -400,
          -400,
          -400,
          -400,
          -400,
          -400,
          -400,
          -400,
          -400,
          -400,
          -400,
          -400,
          -400,
          -400,
          -400,
          -400,
          -400,
          -400,
          -400,
          -400
         ],
         "yaxis": "y"
        },
        {
         "hovertemplate": "Breakeven: $101.00",
         "marker": {
          "color": "#1f77b4",
          "size": 10,
          "symbol": "circle"
         },
         "mode": "markers",
         "name": "Bear Put Spread BE: $101.00",
         "showlegend": false,
         "type": "scatter",
         "x": [
          101
         ],
         "xaxis": "x",
         "y": [
          0
         ],
         "yaxis": "y"
        },
        {
         "hovertemplate": "Max Profit: $600.00<br>at Stock Price: $0.00",
         "marker": {
          "color": "#1f77b4",
          "line": {
           "color": "white",
           "width": 2
          },
          "size": 12,
          "symbol": "star"
         },
         "mode": "markers",
         "name": "Bear Put Spread Max Profit",
         "showlegend": false,
         "type": "scatter",
         "x": [
          0
         ],
         "xaxis": "x",
         "y": [
          600
         ],
         "yaxis": "y"
        },
        {
         "hovertemplate": "Max Loss: $-400.00<br>at Stock Price: $105.00",
         "marker": {
          "color": "#1f77b4",
          "line": {
           "color": "white",
           "width": 2
          },
          "size": 12,
          "symbol": "x"
         },
         "mode": "markers",
         "name": "Bear Put Spread Max Loss",
         "showlegend": false,
         "type": "scatter",
         "x": [
          105
         ],
         "xaxis": "x",
         "y": [
          -400
         ],
         "yaxis": "y"
        },
        {
         "cells": {
          "align": "left",
          "fill": {
           "color": [
            [
             "rgba(240, 240, 240, 0.8)"
            ],
            [
             "rgba(240, 240, 240, 0.8)"
            ],
            [
             "rgba(240, 240, 240, 0.8)"
            ],
            [
             "rgba(240, 240, 240, 0.8)"
            ],
            [
             "rgba(240, 240, 240, 0.8)"
            ]
           ]
          },
          "font": {
           "size": 13
          },
          "values": [
           [
            "Bear Put Spread"
           ],
           [
            "$-400.00"
           ],
           [
            "$600.00"
           ],
           [
            "$-400.00"
           ],
           [
            "$101.00"
           ]
          ]
         },
         "columnwidth": [
          0.8,
          0.7,
          0.7,
          0.7,
          1.5
         ],
         "domain": {
          "x": [
           0,
           1
          ],
          "y": [
           0,
           0.18000000000000002
          ]
         },
         "header": {
          "align": "left",
          "fill": {
           "color": "rgba(30, 144, 255, 0.8)"
          },
          "font": {
           "color": "white",
           "size": 14
          },
          "values": [
           "Strategy",
           "Initial Cost",
           "Max Profit",
           "Max Loss",
           "Breakeven Points"
          ]
         },
         "type": "table"
        }
       ],
       "layout": {
        "annotations": [
         {
          "font": {
           "size": 18
          },
          "showarrow": false,
          "text": "Bear Put Spread",
          "x": 0.5,
          "xanchor": "center",
          "xref": "paper",
          "y": 1,
          "yanchor": "bottom",
          "yref": "paper"
         },
         {
          "font": {
           "size": 18
          },
          "showarrow": false,
          "text": "Strategy Summary",
          "x": 0.5,
          "xanchor": "center",
          "xref": "paper",
          "y": 0.18000000000000002,
          "yanchor": "bottom",
          "yref": "paper"
         },
         {
          "arrowcolor": "#1f77b4",
          "arrowhead": 2,
          "arrowsize": 1,
          "arrowwidth": 2,
          "ax": 0,
          "ay": 40,
          "bgcolor": "white",
          "bordercolor": "#1f77b4",
          "borderpad": 4,
          "borderwidth": 2,
          "font": {
           "color": "#1f77b4",
           "size": 18
          },
          "opacity": 0.8,
          "showarrow": true,
          "text": "BE: $101.00",
          "x": 101,
          "xref": "x",
          "y": 0,
          "yref": "y"
         }
        ],
        "height": 900,
        "hoverlabel": {
         "bgcolor": "white",
         "font": {
          "family": "Arial",
          "size": 14
         }
        },
        "hovermode": "closest",
        "legend": {
         "bgcolor": "rgba(255, 255, 255, 0.8)",
         "bordercolor": "lightgrey",
         "borderwidth": 1,
         "x": 0.01,
         "y": 0.99
        },
        "margin": {
         "b": 20,
         "l": 60,
         "r": 60,
         "t": 60
        },
        "shapes": [
         {
          "line": {
           "color": "black",
           "dash": "dash",
           "width": 2
          },
          "type": "line",
          "x0": 0,
          "x1": 200,
          "xref": "x",
          "y0": 0,
          "y1": 0,
          "yref": "y"
         }
        ],
        "template": {
         "data": {
          "bar": [
           {
            "error_x": {
             "color": "#2a3f5f"
            },
            "error_y": {
             "color": "#2a3f5f"
            },
            "marker": {
             "line": {
              "color": "white",
              "width": 0.5
             },
             "pattern": {
              "fillmode": "overlay",
              "size": 10,
              "solidity": 0.2
             }
            },
            "type": "bar"
           }
          ],
          "barpolar": [
           {
            "marker": {
             "line": {
              "color": "white",
              "width": 0.5
             },
             "pattern": {
              "fillmode": "overlay",
              "size": 10,
              "solidity": 0.2
             }
            },
            "type": "barpolar"
           }
          ],
          "carpet": [
           {
            "aaxis": {
             "endlinecolor": "#2a3f5f",
             "gridcolor": "#C8D4E3",
             "linecolor": "#C8D4E3",
             "minorgridcolor": "#C8D4E3",
             "startlinecolor": "#2a3f5f"
            },
            "baxis": {
             "endlinecolor": "#2a3f5f",
             "gridcolor": "#C8D4E3",
             "linecolor": "#C8D4E3",
             "minorgridcolor": "#C8D4E3",
             "startlinecolor": "#2a3f5f"
            },
            "type": "carpet"
           }
          ],
          "choropleth": [
           {
            "colorbar": {
             "outlinewidth": 0,
             "ticks": ""
            },
            "type": "choropleth"
           }
          ],
          "contour": [
           {
            "colorbar": {
             "outlinewidth": 0,
             "ticks": ""
            },
            "colorscale": [
             [
              0,
              "#0d0887"
             ],
             [
              0.1111111111111111,
              "#46039f"
             ],
             [
              0.2222222222222222,
              "#7201a8"
             ],
             [
              0.3333333333333333,
              "#9c179e"
             ],
             [
              0.4444444444444444,
              "#bd3786"
             ],
             [
              0.5555555555555556,
              "#d8576b"
             ],
             [
              0.6666666666666666,
              "#ed7953"
             ],
             [
              0.7777777777777778,
              "#fb9f3a"
             ],
             [
              0.8888888888888888,
              "#fdca26"
             ],
             [
              1,
              "#f0f921"
             ]
            ],
            "type": "contour"
           }
          ],
          "contourcarpet": [
           {
            "colorbar": {
             "outlinewidth": 0,
             "ticks": ""
            },
            "type": "contourcarpet"
           }
          ],
          "heatmap": [
           {
            "colorbar": {
             "outlinewidth": 0,
             "ticks": ""
            },
            "colorscale": [
             [
              0,
              "#0d0887"
             ],
             [
              0.1111111111111111,
              "#46039f"
             ],
             [
              0.2222222222222222,
              "#7201a8"
             ],
             [
              0.3333333333333333,
              "#9c179e"
             ],
             [
              0.4444444444444444,
              "#bd3786"
             ],
             [
              0.5555555555555556,
              "#d8576b"
             ],
             [
              0.6666666666666666,
              "#ed7953"
             ],
             [
              0.7777777777777778,
              "#fb9f3a"
             ],
             [
              0.8888888888888888,
              "#fdca26"
             ],
             [
              1,
              "#f0f921"
             ]
            ],
            "type": "heatmap"
           }
          ],
          "histogram": [
           {
            "marker": {
             "pattern": {
              "fillmode": "overlay",
              "size": 10,
              "solidity": 0.2
             }
            },
            "type": "histogram"
           }
          ],
          "histogram2d": [
           {
            "colorbar": {
             "outlinewidth": 0,
             "ticks": ""
            },
            "colorscale": [
             [
              0,
              "#0d0887"
             ],
             [
              0.1111111111111111,
              "#46039f"
             ],
             [
              0.2222222222222222,
              "#7201a8"
             ],
             [
              0.3333333333333333,
              "#9c179e"
             ],
             [
              0.4444444444444444,
              "#bd3786"
             ],
             [
              0.5555555555555556,
              "#d8576b"
             ],
             [
              0.6666666666666666,
              "#ed7953"
             ],
             [
              0.7777777777777778,
              "#fb9f3a"
             ],
             [
              0.8888888888888888,
              "#fdca26"
             ],
             [
              1,
              "#f0f921"
             ]
            ],
            "type": "histogram2d"
           }
          ],
          "histogram2dcontour": [
           {
            "colorbar": {
             "outlinewidth": 0,
             "ticks": ""
            },
            "colorscale": [
             [
              0,
              "#0d0887"
             ],
             [
              0.1111111111111111,
              "#46039f"
             ],
             [
              0.2222222222222222,
              "#7201a8"
             ],
             [
              0.3333333333333333,
              "#9c179e"
             ],
             [
              0.4444444444444444,
              "#bd3786"
             ],
             [
              0.5555555555555556,
              "#d8576b"
             ],
             [
              0.6666666666666666,
              "#ed7953"
             ],
             [
              0.7777777777777778,
              "#fb9f3a"
             ],
             [
              0.8888888888888888,
              "#fdca26"
             ],
             [
              1,
              "#f0f921"
             ]
            ],
            "type": "histogram2dcontour"
           }
          ],
          "mesh3d": [
           {
            "colorbar": {
             "outlinewidth": 0,
             "ticks": ""
            },
            "type": "mesh3d"
           }
          ],
          "parcoords": [
           {
            "line": {
             "colorbar": {
              "outlinewidth": 0,
              "ticks": ""
             }
            },
            "type": "parcoords"
           }
          ],
          "pie": [
           {
            "automargin": true,
            "type": "pie"
           }
          ],
          "scatter": [
           {
            "fillpattern": {
             "fillmode": "overlay",
             "size": 10,
             "solidity": 0.2
            },
            "type": "scatter"
           }
          ],
          "scatter3d": [
           {
            "line": {
             "colorbar": {
              "outlinewidth": 0,
              "ticks": ""
             }
            },
            "marker": {
             "colorbar": {
              "outlinewidth": 0,
              "ticks": ""
             }
            },
            "type": "scatter3d"
           }
          ],
          "scattercarpet": [
           {
            "marker": {
             "colorbar": {
              "outlinewidth": 0,
              "ticks": ""
             }
            },
            "type": "scattercarpet"
           }
          ],
          "scattergeo": [
           {
            "marker": {
             "colorbar": {
              "outlinewidth": 0,
              "ticks": ""
             }
            },
            "type": "scattergeo"
           }
          ],
          "scattergl": [
           {
            "marker": {
             "colorbar": {
              "outlinewidth": 0,
              "ticks": ""
             }
            },
            "type": "scattergl"
           }
          ],
          "scattermap": [
           {
            "marker": {
             "colorbar": {
              "outlinewidth": 0,
              "ticks": ""
             }
            },
            "type": "scattermap"
           }
          ],
          "scattermapbox": [
           {
            "marker": {
             "colorbar": {
              "outlinewidth": 0,
              "ticks": ""
             }
            },
            "type": "scattermapbox"
           }
          ],
          "scatterpolar": [
           {
            "marker": {
             "colorbar": {
              "outlinewidth": 0,
              "ticks": ""
             }
            },
            "type": "scatterpolar"
           }
          ],
          "scatterpolargl": [
           {
            "marker": {
             "colorbar": {
              "outlinewidth": 0,
              "ticks": ""
             }
            },
            "type": "scatterpolargl"
           }
          ],
          "scatterternary": [
           {
            "marker": {
             "colorbar": {
              "outlinewidth": 0,
              "ticks": ""
             }
            },
            "type": "scatterternary"
           }
          ],
          "surface": [
           {
            "colorbar": {
             "outlinewidth": 0,
             "ticks": ""
            },
            "colorscale": [
             [
              0,
              "#0d0887"
             ],
             [
              0.1111111111111111,
              "#46039f"
             ],
             [
              0.2222222222222222,
              "#7201a8"
             ],
             [
              0.3333333333333333,
              "#9c179e"
             ],
             [
              0.4444444444444444,
              "#bd3786"
             ],
             [
              0.5555555555555556,
              "#d8576b"
             ],
             [
              0.6666666666666666,
              "#ed7953"
             ],
             [
              0.7777777777777778,
              "#fb9f3a"
             ],
             [
              0.8888888888888888,
              "#fdca26"
             ],
             [
              1,
              "#f0f921"
             ]
            ],
            "type": "surface"
           }
          ],
          "table": [
           {
            "cells": {
             "fill": {
              "color": "#EBF0F8"
             },
             "line": {
              "color": "white"
             }
            },
            "header": {
             "fill": {
              "color": "#C8D4E3"
             },
             "line": {
              "color": "white"
             }
            },
            "type": "table"
           }
          ]
         },
         "layout": {
          "annotationdefaults": {
           "arrowcolor": "#2a3f5f",
           "arrowhead": 0,
           "arrowwidth": 1
          },
          "autotypenumbers": "strict",
          "coloraxis": {
           "colorbar": {
            "outlinewidth": 0,
            "ticks": ""
           }
          },
          "colorscale": {
           "diverging": [
            [
             0,
             "#8e0152"
            ],
            [
             0.1,
             "#c51b7d"
            ],
            [
             0.2,
             "#de77ae"
            ],
            [
             0.3,
             "#f1b6da"
            ],
            [
             0.4,
             "#fde0ef"
            ],
            [
             0.5,
             "#f7f7f7"
            ],
            [
             0.6,
             "#e6f5d0"
            ],
            [
             0.7,
             "#b8e186"
            ],
            [
             0.8,
             "#7fbc41"
            ],
            [
             0.9,
             "#4d9221"
            ],
            [
             1,
             "#276419"
            ]
           ],
           "sequential": [
            [
             0,
             "#0d0887"
            ],
            [
             0.1111111111111111,
             "#46039f"
            ],
            [
             0.2222222222222222,
             "#7201a8"
            ],
            [
             0.3333333333333333,
             "#9c179e"
            ],
            [
             0.4444444444444444,
             "#bd3786"
            ],
            [
             0.5555555555555556,
             "#d8576b"
            ],
            [
             0.6666666666666666,
             "#ed7953"
            ],
            [
             0.7777777777777778,
             "#fb9f3a"
            ],
            [
             0.8888888888888888,
             "#fdca26"
            ],
            [
             1,
             "#f0f921"
            ]
           ],
           "sequentialminus": [
            [
             0,
             "#0d0887"
            ],
            [
             0.1111111111111111,
             "#46039f"
            ],
            [
             0.2222222222222222,
             "#7201a8"
            ],
            [
             0.3333333333333333,
             "#9c179e"
            ],
            [
             0.4444444444444444,
             "#bd3786"
            ],
            [
             0.5555555555555556,
             "#d8576b"
            ],
            [
             0.6666666666666666,
             "#ed7953"
            ],
            [
             0.7777777777777778,
             "#fb9f3a"
            ],
            [
             0.8888888888888888,
             "#fdca26"
            ],
            [
             1,
             "#f0f921"
            ]
           ]
          },
          "colorway": [
           "#636efa",
           "#EF553B",
           "#00cc96",
           "#ab63fa",
           "#FFA15A",
           "#19d3f3",
           "#FF6692",
           "#B6E880",
           "#FF97FF",
           "#FECB52"
          ],
          "font": {
           "color": "#2a3f5f"
          },
          "geo": {
           "bgcolor": "white",
           "lakecolor": "white",
           "landcolor": "white",
           "showlakes": true,
           "showland": true,
           "subunitcolor": "#C8D4E3"
          },
          "hoverlabel": {
           "align": "left"
          },
          "hovermode": "closest",
          "mapbox": {
           "style": "light"
          },
          "paper_bgcolor": "white",
          "plot_bgcolor": "white",
          "polar": {
           "angularaxis": {
            "gridcolor": "#EBF0F8",
            "linecolor": "#EBF0F8",
            "ticks": ""
           },
           "bgcolor": "white",
           "radialaxis": {
            "gridcolor": "#EBF0F8",
            "linecolor": "#EBF0F8",
            "ticks": ""
           }
          },
          "scene": {
           "xaxis": {
            "backgroundcolor": "white",
            "gridcolor": "#DFE8F3",
            "gridwidth": 2,
            "linecolor": "#EBF0F8",
            "showbackground": true,
            "ticks": "",
            "zerolinecolor": "#EBF0F8"
           },
           "yaxis": {
            "backgroundcolor": "white",
            "gridcolor": "#DFE8F3",
            "gridwidth": 2,
            "linecolor": "#EBF0F8",
            "showbackground": true,
            "ticks": "",
            "zerolinecolor": "#EBF0F8"
           },
           "zaxis": {
            "backgroundcolor": "white",
            "gridcolor": "#DFE8F3",
            "gridwidth": 2,
            "linecolor": "#EBF0F8",
            "showbackground": true,
            "ticks": "",
            "zerolinecolor": "#EBF0F8"
           }
          },
          "shapedefaults": {
           "line": {
            "color": "#2a3f5f"
           }
          },
          "ternary": {
           "aaxis": {
            "gridcolor": "#DFE8F3",
            "linecolor": "#A2B1C6",
            "ticks": ""
           },
           "baxis": {
            "gridcolor": "#DFE8F3",
            "linecolor": "#A2B1C6",
            "ticks": ""
           },
           "bgcolor": "white",
           "caxis": {
            "gridcolor": "#DFE8F3",
            "linecolor": "#A2B1C6",
            "ticks": ""
           }
          },
          "title": {
           "x": 0.05
          },
          "xaxis": {
           "automargin": true,
           "gridcolor": "#EBF0F8",
           "linecolor": "#EBF0F8",
           "ticks": "",
           "title": {
            "standoff": 15
           },
           "zerolinecolor": "#EBF0F8",
           "zerolinewidth": 2
          },
          "yaxis": {
           "automargin": true,
           "gridcolor": "#EBF0F8",
           "linecolor": "#EBF0F8",
           "ticks": "",
           "title": {
            "standoff": 15
           },
           "zerolinecolor": "#EBF0F8",
           "zerolinewidth": 2
          }
         }
        },
        "xaxis": {
         "anchor": "y",
         "domain": [
          0,
          1
         ],
         "gridcolor": "lightgrey",
         "tickprefix": "$",
         "title": {
          "text": "Stock Price at Expiration"
         }
        },
        "yaxis": {
         "anchor": "x",
         "domain": [
          0.28,
          1
         ],
         "gridcolor": "lightgrey",
         "tickformat": ",.0f",
         "tickprefix": "$",
         "title": {
          "text": "Profit/Loss"
         },
         "zerolinecolor": "black",
         "zerolinewidth": 2
        }
       }
      }
     },
     "metadata": {},
     "output_type": "display_data"
    }
   ],
   "source": [
    "bear_put_spread = OptionsStrategy(\"Bear Put Spread\")\n",
    "bear_put_spread.add_option('put',105,6)\n",
    "bear_put_spread.add_option('put',95,2,position=-1)\n",
    "\n",
    "fig = ploting.plot_strategy_pnl_plotly(\n",
    "    [bear_put_spread],\n",
    "    (0,200,0.5),\n",
    "    \"Bear Put Spread\"\n",
    ")\n",
    "fig.show()"
   ]
  },
  {
   "cell_type": "markdown",
   "id": "e3475048",
   "metadata": {},
   "source": [
    "### Bull Call Spread\n",
    "\n",
    "METHOD: buy call option with low strike, sell call option with high strike<br>\n",
    "REASON: bullish market outlook, but cover risk of decreasing prices<br>\n",
    "RISK: difference in premiums, i.e. (short premium - long premium) * 100<br>\n",
    "REWARD: difference in strikes less the difference in premiums, i.e. ((short strike - long strike) - (short premium - long premium))*100"
   ]
  },
  {
   "cell_type": "code",
   "execution_count": 7,
   "id": "89d42da8",
   "metadata": {},
   "outputs": [
    {
     "data": {
      "application/vnd.plotly.v1+json": {
       "config": {
        "plotlyServerURL": "https://plot.ly"
       },
       "data": [
        {
         "hovertemplate": "<b>Bull Call Spread</b><br>Stock Price: $%{x:.2f}<br>P&L: $%{y:.2f}<br>Initial Cost: $-400.00<br>Max Profit: $600.00<br>Max Loss: $-400.00",
         "line": {
          "color": "#1f77b4",
          "width": 3
         },
         "mode": "lines",
         "name": "Bull Call Spread",
         "type": "scatter",
         "x": {
          "bdata": "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",
          "dtype": "f8"
         },
         "xaxis": "x",
         "y": [
          -400,
          -400,
          -400,
          -400,
          -400,
          -400,
          -400,
          -400,
          -400,
          -400,
          -400,
          -400,
          -400,
          -400,
          -400,
          -400,
          -400,
          -400,
          -400,
          -400,
          -400,
          -400,
          -400,
          -400,
          -400,
          -400,
          -400,
          -400,
          -400,
          -400,
          -400,
          -400,
          -400,
          -400,
          -400,
          -400,
          -400,
          -400,
          -400,
          -400,
          -400,
          -400,
          -400,
          -400,
          -400,
          -400,
          -400,
          -400,
          -400,
          -400,
          -400,
          -400,
          -400,
          -400,
          -400,
          -400,
          -400,
          -400,
          -400,
          -400,
          -400,
          -400,
          -400,
          -400,
          -400,
          -400,
          -400,
          -400,
          -400,
          -400,
          -400,
          -400,
          -400,
          -400,
          -400,
          -400,
          -400,
          -400,
          -400,
          -400,
          -400,
          -400,
          -400,
          -400,
          -400,
          -400,
          -400,
          -400,
          -400,
          -400,
          -400,
          -400,
          -400,
          -400,
          -400,
          -400,
          -400,
          -400,
          -400,
          -400,
          -400,
          -400,
          -400,
          -400,
          -400,
          -400,
          -400,
          -400,
          -400,
          -400,
          -400,
          -400,
          -400,
          -400,
          -400,
          -400,
          -400,
          -400,
          -400,
          -400,
          -400,
          -400,
          -400,
          -400,
          -400,
          -400,
          -400,
          -400,
          -400,
          -400,
          -400,
          -400,
          -400,
          -400,
          -400,
          -400,
          -400,
          -400,
          -400,
          -400,
          -400,
          -400,
          -400,
          -400,
          -400,
          -400,
          -400,
          -400,
          -400,
          -400,
          -400,
          -400,
          -400,
          -400,
          -400,
          -400,
          -400,
          -400,
          -400,
          -400,
          -400,
          -400,
          -400,
          -400,
          -400,
          -400,
          -400,
          -400,
          -400,
          -400,
          -400,
          -400,
          -400,
          -400,
          -400,
          -400,
          -400,
          -400,
          -400,
          -400,
          -400,
          -400,
          -400,
          -400,
          -400,
          -400,
          -400,
          -400,
          -400,
          -400,
          -400,
          -400,
          -400,
          -400,
          -400,
          -400,
          -400,
          -400,
          -400,
          -400,
          -400,
          -350,
          -300,
          -250,
          -200,
          -150,
          -100,
          -50,
          0,
          50,
          100,
          150,
          200,
          250,
          300,
          350,
          400,
          450,
          500,
          550,
          600,
          600,
          600,
          600,
          600,
          600,
          600,
          600,
          600,
          600,
          600,
          600,
          600,
          600,
          600,
          600,
          600,
          600,
          600,
          600,
          600,
          600,
          600,
          600,
          600,
          600,
          600,
          600,
          600,
          600,
          600,
          600,
          600,
          600,
          600,
          600,
          600,
          600,
          600,
          600,
          600,
          600,
          600,
          600,
          600,
          600,
          600,
          600,
          600,
          600,
          600,
          600,
          600,
          600,
          600,
          600,
          600,
          600,
          600,
          600,
          600,
          600,
          600,
          600,
          600,
          600,
          600,
          600,
          600,
          600,
          600,
          600,
          600,
          600,
          600,
          600,
          600,
          600,
          600,
          600,
          600,
          600,
          600,
          600,
          600,
          600,
          600,
          600,
          600,
          600,
          600,
          600,
          600,
          600,
          600,
          600,
          600,
          600,
          600,
          600,
          600,
          600,
          600,
          600,
          600,
          600,
          600,
          600,
          600,
          600,
          600,
          600,
          600,
          600,
          600,
          600,
          600,
          600,
          600,
          600,
          600,
          600,
          600,
          600,
          600,
          600,
          600,
          600,
          600,
          600,
          600,
          600,
          600,
          600,
          600,
          600,
          600,
          600,
          600,
          600,
          600,
          600,
          600,
          600,
          600,
          600,
          600,
          600,
          600,
          600,
          600,
          600,
          600,
          600,
          600,
          600,
          600,
          600,
          600,
          600,
          600,
          600,
          600,
          600,
          600,
          600,
          600,
          600,
          600,
          600,
          600,
          600,
          600,
          600,
          600,
          600,
          600,
          600,
          600,
          600
         ],
         "yaxis": "y"
        },
        {
         "hovertemplate": "Breakeven: $104.00",
         "marker": {
          "color": "#1f77b4",
          "size": 10,
          "symbol": "circle"
         },
         "mode": "markers",
         "name": "Bull Call Spread BE: $104.00",
         "showlegend": false,
         "type": "scatter",
         "x": [
          104
         ],
         "xaxis": "x",
         "y": [
          0
         ],
         "yaxis": "y"
        },
        {
         "hovertemplate": "Max Profit: $600.00<br>at Stock Price: $110.00",
         "marker": {
          "color": "#1f77b4",
          "line": {
           "color": "white",
           "width": 2
          },
          "size": 12,
          "symbol": "star"
         },
         "mode": "markers",
         "name": "Bull Call Spread Max Profit",
         "showlegend": false,
         "type": "scatter",
         "x": [
          110
         ],
         "xaxis": "x",
         "y": [
          600
         ],
         "yaxis": "y"
        },
        {
         "cells": {
          "align": "left",
          "fill": {
           "color": [
            [
             "rgba(240, 240, 240, 0.8)"
            ],
            [
             "rgba(240, 240, 240, 0.8)"
            ],
            [
             "rgba(240, 240, 240, 0.8)"
            ],
            [
             "rgba(240, 240, 240, 0.8)"
            ],
            [
             "rgba(240, 240, 240, 0.8)"
            ]
           ]
          },
          "font": {
           "size": 13
          },
          "values": [
           [
            "Bull Call Spread"
           ],
           [
            "$-400.00"
           ],
           [
            "$600.00"
           ],
           [
            "$-400.00"
           ],
           [
            "$104.00"
           ]
          ]
         },
         "columnwidth": [
          0.8,
          0.7,
          0.7,
          0.7,
          1.5
         ],
         "domain": {
          "x": [
           0,
           1
          ],
          "y": [
           0,
           0.18000000000000002
          ]
         },
         "header": {
          "align": "left",
          "fill": {
           "color": "rgba(30, 144, 255, 0.8)"
          },
          "font": {
           "color": "white",
           "size": 14
          },
          "values": [
           "Strategy",
           "Initial Cost",
           "Max Profit",
           "Max Loss",
           "Breakeven Points"
          ]
         },
         "type": "table"
        }
       ],
       "layout": {
        "annotations": [
         {
          "font": {
           "size": 18
          },
          "showarrow": false,
          "text": "Bull Call Spread",
          "x": 0.5,
          "xanchor": "center",
          "xref": "paper",
          "y": 1,
          "yanchor": "bottom",
          "yref": "paper"
         },
         {
          "font": {
           "size": 18
          },
          "showarrow": false,
          "text": "Strategy Summary",
          "x": 0.5,
          "xanchor": "center",
          "xref": "paper",
          "y": 0.18000000000000002,
          "yanchor": "bottom",
          "yref": "paper"
         },
         {
          "arrowcolor": "#1f77b4",
          "arrowhead": 2,
          "arrowsize": 1,
          "arrowwidth": 2,
          "ax": 0,
          "ay": 40,
          "bgcolor": "white",
          "bordercolor": "#1f77b4",
          "borderpad": 4,
          "borderwidth": 2,
          "font": {
           "color": "#1f77b4",
           "size": 18
          },
          "opacity": 0.8,
          "showarrow": true,
          "text": "BE: $104.00",
          "x": 104,
          "xref": "x",
          "y": 0,
          "yref": "y"
         }
        ],
        "height": 900,
        "hoverlabel": {
         "bgcolor": "white",
         "font": {
          "family": "Arial",
          "size": 14
         }
        },
        "hovermode": "closest",
        "legend": {
         "bgcolor": "rgba(255, 255, 255, 0.8)",
         "bordercolor": "lightgrey",
         "borderwidth": 1,
         "x": 0.01,
         "y": 0.99
        },
        "margin": {
         "b": 20,
         "l": 60,
         "r": 60,
         "t": 60
        },
        "shapes": [
         {
          "line": {
           "color": "black",
           "dash": "dash",
           "width": 2
          },
          "type": "line",
          "x0": 0,
          "x1": 200,
          "xref": "x",
          "y0": 0,
          "y1": 0,
          "yref": "y"
         }
        ],
        "template": {
         "data": {
          "bar": [
           {
            "error_x": {
             "color": "#2a3f5f"
            },
            "error_y": {
             "color": "#2a3f5f"
            },
            "marker": {
             "line": {
              "color": "white",
              "width": 0.5
             },
             "pattern": {
              "fillmode": "overlay",
              "size": 10,
              "solidity": 0.2
             }
            },
            "type": "bar"
           }
          ],
          "barpolar": [
           {
            "marker": {
             "line": {
              "color": "white",
              "width": 0.5
             },
             "pattern": {
              "fillmode": "overlay",
              "size": 10,
              "solidity": 0.2
             }
            },
            "type": "barpolar"
           }
          ],
          "carpet": [
           {
            "aaxis": {
             "endlinecolor": "#2a3f5f",
             "gridcolor": "#C8D4E3",
             "linecolor": "#C8D4E3",
             "minorgridcolor": "#C8D4E3",
             "startlinecolor": "#2a3f5f"
            },
            "baxis": {
             "endlinecolor": "#2a3f5f",
             "gridcolor": "#C8D4E3",
             "linecolor": "#C8D4E3",
             "minorgridcolor": "#C8D4E3",
             "startlinecolor": "#2a3f5f"
            },
            "type": "carpet"
           }
          ],
          "choropleth": [
           {
            "colorbar": {
             "outlinewidth": 0,
             "ticks": ""
            },
            "type": "choropleth"
           }
          ],
          "contour": [
           {
            "colorbar": {
             "outlinewidth": 0,
             "ticks": ""
            },
            "colorscale": [
             [
              0,
              "#0d0887"
             ],
             [
              0.1111111111111111,
              "#46039f"
             ],
             [
              0.2222222222222222,
              "#7201a8"
             ],
             [
              0.3333333333333333,
              "#9c179e"
             ],
             [
              0.4444444444444444,
              "#bd3786"
             ],
             [
              0.5555555555555556,
              "#d8576b"
             ],
             [
              0.6666666666666666,
              "#ed7953"
             ],
             [
              0.7777777777777778,
              "#fb9f3a"
             ],
             [
              0.8888888888888888,
              "#fdca26"
             ],
             [
              1,
              "#f0f921"
             ]
            ],
            "type": "contour"
           }
          ],
          "contourcarpet": [
           {
            "colorbar": {
             "outlinewidth": 0,
             "ticks": ""
            },
            "type": "contourcarpet"
           }
          ],
          "heatmap": [
           {
            "colorbar": {
             "outlinewidth": 0,
             "ticks": ""
            },
            "colorscale": [
             [
              0,
              "#0d0887"
             ],
             [
              0.1111111111111111,
              "#46039f"
             ],
             [
              0.2222222222222222,
              "#7201a8"
             ],
             [
              0.3333333333333333,
              "#9c179e"
             ],
             [
              0.4444444444444444,
              "#bd3786"
             ],
             [
              0.5555555555555556,
              "#d8576b"
             ],
             [
              0.6666666666666666,
              "#ed7953"
             ],
             [
              0.7777777777777778,
              "#fb9f3a"
             ],
             [
              0.8888888888888888,
              "#fdca26"
             ],
             [
              1,
              "#f0f921"
             ]
            ],
            "type": "heatmap"
           }
          ],
          "histogram": [
           {
            "marker": {
             "pattern": {
              "fillmode": "overlay",
              "size": 10,
              "solidity": 0.2
             }
            },
            "type": "histogram"
           }
          ],
          "histogram2d": [
           {
            "colorbar": {
             "outlinewidth": 0,
             "ticks": ""
            },
            "colorscale": [
             [
              0,
              "#0d0887"
             ],
             [
              0.1111111111111111,
              "#46039f"
             ],
             [
              0.2222222222222222,
              "#7201a8"
             ],
             [
              0.3333333333333333,
              "#9c179e"
             ],
             [
              0.4444444444444444,
              "#bd3786"
             ],
             [
              0.5555555555555556,
              "#d8576b"
             ],
             [
              0.6666666666666666,
              "#ed7953"
             ],
             [
              0.7777777777777778,
              "#fb9f3a"
             ],
             [
              0.8888888888888888,
              "#fdca26"
             ],
             [
              1,
              "#f0f921"
             ]
            ],
            "type": "histogram2d"
           }
          ],
          "histogram2dcontour": [
           {
            "colorbar": {
             "outlinewidth": 0,
             "ticks": ""
            },
            "colorscale": [
             [
              0,
              "#0d0887"
             ],
             [
              0.1111111111111111,
              "#46039f"
             ],
             [
              0.2222222222222222,
              "#7201a8"
             ],
             [
              0.3333333333333333,
              "#9c179e"
             ],
             [
              0.4444444444444444,
              "#bd3786"
             ],
             [
              0.5555555555555556,
              "#d8576b"
             ],
             [
              0.6666666666666666,
              "#ed7953"
             ],
             [
              0.7777777777777778,
              "#fb9f3a"
             ],
             [
              0.8888888888888888,
              "#fdca26"
             ],
             [
              1,
              "#f0f921"
             ]
            ],
            "type": "histogram2dcontour"
           }
          ],
          "mesh3d": [
           {
            "colorbar": {
             "outlinewidth": 0,
             "ticks": ""
            },
            "type": "mesh3d"
           }
          ],
          "parcoords": [
           {
            "line": {
             "colorbar": {
              "outlinewidth": 0,
              "ticks": ""
             }
            },
            "type": "parcoords"
           }
          ],
          "pie": [
           {
            "automargin": true,
            "type": "pie"
           }
          ],
          "scatter": [
           {
            "fillpattern": {
             "fillmode": "overlay",
             "size": 10,
             "solidity": 0.2
            },
            "type": "scatter"
           }
          ],
          "scatter3d": [
           {
            "line": {
             "colorbar": {
              "outlinewidth": 0,
              "ticks": ""
             }
            },
            "marker": {
             "colorbar": {
              "outlinewidth": 0,
              "ticks": ""
             }
            },
            "type": "scatter3d"
           }
          ],
          "scattercarpet": [
           {
            "marker": {
             "colorbar": {
              "outlinewidth": 0,
              "ticks": ""
             }
            },
            "type": "scattercarpet"
           }
          ],
          "scattergeo": [
           {
            "marker": {
             "colorbar": {
              "outlinewidth": 0,
              "ticks": ""
             }
            },
            "type": "scattergeo"
           }
          ],
          "scattergl": [
           {
            "marker": {
             "colorbar": {
              "outlinewidth": 0,
              "ticks": ""
             }
            },
            "type": "scattergl"
           }
          ],
          "scattermap": [
           {
            "marker": {
             "colorbar": {
              "outlinewidth": 0,
              "ticks": ""
             }
            },
            "type": "scattermap"
           }
          ],
          "scattermapbox": [
           {
            "marker": {
             "colorbar": {
              "outlinewidth": 0,
              "ticks": ""
             }
            },
            "type": "scattermapbox"
           }
          ],
          "scatterpolar": [
           {
            "marker": {
             "colorbar": {
              "outlinewidth": 0,
              "ticks": ""
             }
            },
            "type": "scatterpolar"
           }
          ],
          "scatterpolargl": [
           {
            "marker": {
             "colorbar": {
              "outlinewidth": 0,
              "ticks": ""
             }
            },
            "type": "scatterpolargl"
           }
          ],
          "scatterternary": [
           {
            "marker": {
             "colorbar": {
              "outlinewidth": 0,
              "ticks": ""
             }
            },
            "type": "scatterternary"
           }
          ],
          "surface": [
           {
            "colorbar": {
             "outlinewidth": 0,
             "ticks": ""
            },
            "colorscale": [
             [
              0,
              "#0d0887"
             ],
             [
              0.1111111111111111,
              "#46039f"
             ],
             [
              0.2222222222222222,
              "#7201a8"
             ],
             [
              0.3333333333333333,
              "#9c179e"
             ],
             [
              0.4444444444444444,
              "#bd3786"
             ],
             [
              0.5555555555555556,
              "#d8576b"
             ],
             [
              0.6666666666666666,
              "#ed7953"
             ],
             [
              0.7777777777777778,
              "#fb9f3a"
             ],
             [
              0.8888888888888888,
              "#fdca26"
             ],
             [
              1,
              "#f0f921"
             ]
            ],
            "type": "surface"
           }
          ],
          "table": [
           {
            "cells": {
             "fill": {
              "color": "#EBF0F8"
             },
             "line": {
              "color": "white"
             }
            },
            "header": {
             "fill": {
              "color": "#C8D4E3"
             },
             "line": {
              "color": "white"
             }
            },
            "type": "table"
           }
          ]
         },
         "layout": {
          "annotationdefaults": {
           "arrowcolor": "#2a3f5f",
           "arrowhead": 0,
           "arrowwidth": 1
          },
          "autotypenumbers": "strict",
          "coloraxis": {
           "colorbar": {
            "outlinewidth": 0,
            "ticks": ""
           }
          },
          "colorscale": {
           "diverging": [
            [
             0,
             "#8e0152"
            ],
            [
             0.1,
             "#c51b7d"
            ],
            [
             0.2,
             "#de77ae"
            ],
            [
             0.3,
             "#f1b6da"
            ],
            [
             0.4,
             "#fde0ef"
            ],
            [
             0.5,
             "#f7f7f7"
            ],
            [
             0.6,
             "#e6f5d0"
            ],
            [
             0.7,
             "#b8e186"
            ],
            [
             0.8,
             "#7fbc41"
            ],
            [
             0.9,
             "#4d9221"
            ],
            [
             1,
             "#276419"
            ]
           ],
           "sequential": [
            [
             0,
             "#0d0887"
            ],
            [
             0.1111111111111111,
             "#46039f"
            ],
            [
             0.2222222222222222,
             "#7201a8"
            ],
            [
             0.3333333333333333,
             "#9c179e"
            ],
            [
             0.4444444444444444,
             "#bd3786"
            ],
            [
             0.5555555555555556,
             "#d8576b"
            ],
            [
             0.6666666666666666,
             "#ed7953"
            ],
            [
             0.7777777777777778,
             "#fb9f3a"
            ],
            [
             0.8888888888888888,
             "#fdca26"
            ],
            [
             1,
             "#f0f921"
            ]
           ],
           "sequentialminus": [
            [
             0,
             "#0d0887"
            ],
            [
             0.1111111111111111,
             "#46039f"
            ],
            [
             0.2222222222222222,
             "#7201a8"
            ],
            [
             0.3333333333333333,
             "#9c179e"
            ],
            [
             0.4444444444444444,
             "#bd3786"
            ],
            [
             0.5555555555555556,
             "#d8576b"
            ],
            [
             0.6666666666666666,
             "#ed7953"
            ],
            [
             0.7777777777777778,
             "#fb9f3a"
            ],
            [
             0.8888888888888888,
             "#fdca26"
            ],
            [
             1,
             "#f0f921"
            ]
           ]
          },
          "colorway": [
           "#636efa",
           "#EF553B",
           "#00cc96",
           "#ab63fa",
           "#FFA15A",
           "#19d3f3",
           "#FF6692",
           "#B6E880",
           "#FF97FF",
           "#FECB52"
          ],
          "font": {
           "color": "#2a3f5f"
          },
          "geo": {
           "bgcolor": "white",
           "lakecolor": "white",
           "landcolor": "white",
           "showlakes": true,
           "showland": true,
           "subunitcolor": "#C8D4E3"
          },
          "hoverlabel": {
           "align": "left"
          },
          "hovermode": "closest",
          "mapbox": {
           "style": "light"
          },
          "paper_bgcolor": "white",
          "plot_bgcolor": "white",
          "polar": {
           "angularaxis": {
            "gridcolor": "#EBF0F8",
            "linecolor": "#EBF0F8",
            "ticks": ""
           },
           "bgcolor": "white",
           "radialaxis": {
            "gridcolor": "#EBF0F8",
            "linecolor": "#EBF0F8",
            "ticks": ""
           }
          },
          "scene": {
           "xaxis": {
            "backgroundcolor": "white",
            "gridcolor": "#DFE8F3",
            "gridwidth": 2,
            "linecolor": "#EBF0F8",
            "showbackground": true,
            "ticks": "",
            "zerolinecolor": "#EBF0F8"
           },
           "yaxis": {
            "backgroundcolor": "white",
            "gridcolor": "#DFE8F3",
            "gridwidth": 2,
            "linecolor": "#EBF0F8",
            "showbackground": true,
            "ticks": "",
            "zerolinecolor": "#EBF0F8"
           },
           "zaxis": {
            "backgroundcolor": "white",
            "gridcolor": "#DFE8F3",
            "gridwidth": 2,
            "linecolor": "#EBF0F8",
            "showbackground": true,
            "ticks": "",
            "zerolinecolor": "#EBF0F8"
           }
          },
          "shapedefaults": {
           "line": {
            "color": "#2a3f5f"
           }
          },
          "ternary": {
           "aaxis": {
            "gridcolor": "#DFE8F3",
            "linecolor": "#A2B1C6",
            "ticks": ""
           },
           "baxis": {
            "gridcolor": "#DFE8F3",
            "linecolor": "#A2B1C6",
            "ticks": ""
           },
           "bgcolor": "white",
           "caxis": {
            "gridcolor": "#DFE8F3",
            "linecolor": "#A2B1C6",
            "ticks": ""
           }
          },
          "title": {
           "x": 0.05
          },
          "xaxis": {
           "automargin": true,
           "gridcolor": "#EBF0F8",
           "linecolor": "#EBF0F8",
           "ticks": "",
           "title": {
            "standoff": 15
           },
           "zerolinecolor": "#EBF0F8",
           "zerolinewidth": 2
          },
          "yaxis": {
           "automargin": true,
           "gridcolor": "#EBF0F8",
           "linecolor": "#EBF0F8",
           "ticks": "",
           "title": {
            "standoff": 15
           },
           "zerolinecolor": "#EBF0F8",
           "zerolinewidth": 2
          }
         }
        },
        "xaxis": {
         "anchor": "y",
         "domain": [
          0,
          1
         ],
         "gridcolor": "lightgrey",
         "tickprefix": "$",
         "title": {
          "text": "Stock Price at Expiration"
         }
        },
        "yaxis": {
         "anchor": "x",
         "domain": [
          0.28,
          1
         ],
         "gridcolor": "lightgrey",
         "tickformat": ",.0f",
         "tickprefix": "$",
         "title": {
          "text": "Profit/Loss"
         },
         "zerolinecolor": "black",
         "zerolinewidth": 2
        }
       }
      }
     },
     "metadata": {},
     "output_type": "display_data"
    }
   ],
   "source": [
    "bull_call_spread = OptionsStrategy(\"Bull Call Spread\")\n",
    "bull_call_spread.add_option(\"call\",100,6)\n",
    "bull_call_spread.add_option(\"call\", 110,2,position=-1)\n",
    "\n",
    "fig = ploting.plot_strategy_pnl_plotly(\n",
    "    [bull_call_spread],\n",
    "    (0,200,0.5),\n",
    "    \"Bull Call Spread\"\n",
    ")\n",
    "fig"
   ]
  },
  {
   "cell_type": "markdown",
   "id": "a1594efa",
   "metadata": {},
   "source": [
    "### Butterfly Spread\n",
    "\n",
    "METHOD: buy two call option with different strikes, sell 2 call options with strike between the two bought strikes<br>\n",
    "REASON: <br>\n",
    "| Reason          | Description           |\n",
    "|-----------------|-----------------------|\n",
    "| Income          | Generate income from stocks that are stable/going nowhere |\n",
    "| Non-directional |delta neutral|\n",
    "| Hedging         |Short term hedge for positions moving against you|\n",
    "| Low maintenance |\n",
    "\n",
    "RISK: difference in premiums, i.e. (short premium - long premium) * 100<br>\n",
    "REWARD: ((upper long strike - short strike) - (short premium - long premium)) * 100"
   ]
  },
  {
   "cell_type": "code",
   "execution_count": 12,
   "id": "86fe8e9e",
   "metadata": {},
   "outputs": [
    {
     "data": {
      "application/vnd.plotly.v1+json": {
       "config": {
        "plotlyServerURL": "https://plot.ly"
       },
       "data": [
        {
         "hovertemplate": "<b>butterfly spread</b><br>Stock Price: $%{x:.2f}<br>P&L: $%{y:.2f}<br>Initial Cost: $-400.00<br>Max Profit: $600.00<br>Max Loss: $-400.00",
         "line": {
          "color": "#1f77b4",
          "width": 3
         },
         "mode": "lines",
         "name": "butterfly spread",
         "type": "scatter",
         "x": {
          "bdata": "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",
          "dtype": "f8"
         },
         "xaxis": "x",
         "y": [
          -400,
          -400,
          -400,
          -400,
          -400,
          -400,
          -400,
          -400,
          -400,
          -400,
          -400,
          -400,
          -400,
          -400,
          -400,
          -400,
          -400,
          -400,
          -400,
          -400,
          -400,
          -400,
          -400,
          -400,
          -400,
          -400,
          -400,
          -400,
          -400,
          -400,
          -400,
          -400,
          -400,
          -400,
          -400,
          -400,
          -400,
          -400,
          -400,
          -400,
          -400,
          -400,
          -400,
          -400,
          -400,
          -400,
          -400,
          -400,
          -400,
          -400,
          -400,
          -400,
          -400,
          -400,
          -400,
          -400,
          -400,
          -400,
          -400,
          -400,
          -400,
          -400,
          -400,
          -400,
          -400,
          -400,
          -400,
          -400,
          -400,
          -400,
          -400,
          -400,
          -400,
          -400,
          -400,
          -400,
          -400,
          -400,
          -400,
          -400,
          -400,
          -400,
          -400,
          -400,
          -400,
          -400,
          -400,
          -400,
          -400,
          -400,
          -400,
          -400,
          -400,
          -400,
          -400,
          -400,
          -400,
          -400,
          -400,
          -400,
          -400,
          -400,
          -400,
          -400,
          -400,
          -400,
          -400,
          -400,
          -400,
          -400,
          -400,
          -400,
          -400,
          -400,
          -400,
          -400,
          -400,
          -400,
          -400,
          -400,
          -400,
          -400,
          -400,
          -400,
          -400,
          -400,
          -400,
          -400,
          -400,
          -400,
          -400,
          -400,
          -400,
          -400,
          -400,
          -400,
          -400,
          -400,
          -400,
          -400,
          -400,
          -400,
          -400,
          -400,
          -400,
          -400,
          -400,
          -400,
          -400,
          -400,
          -400,
          -400,
          -400,
          -400,
          -400,
          -400,
          -400,
          -400,
          -400,
          -400,
          -400,
          -400,
          -400,
          -400,
          -400,
          -400,
          -400,
          -400,
          -400,
          -400,
          -400,
          -400,
          -400,
          -400,
          -400,
          -400,
          -400,
          -400,
          -400,
          -400,
          -400,
          -350,
          -300,
          -250,
          -200,
          -150,
          -100,
          -50,
          0,
          50,
          100,
          150,
          200,
          250,
          300,
          350,
          400,
          450,
          500,
          550,
          600,
          550,
          500,
          450,
          400,
          350,
          300,
          250,
          200,
          150,
          100,
          50,
          0,
          -50,
          -100,
          -150,
          -200,
          -250,
          -300,
          -350,
          -400,
          -400,
          -400,
          -400,
          -400,
          -400,
          -400,
          -400,
          -400,
          -400,
          -400,
          -400,
          -400,
          -400,
          -400,
          -400,
          -400,
          -400,
          -400,
          -400,
          -400,
          -400,
          -400,
          -400,
          -400,
          -400,
          -400,
          -400,
          -400,
          -400,
          -400,
          -400,
          -400,
          -400,
          -400,
          -400,
          -400,
          -400,
          -400,
          -400,
          -400,
          -400,
          -400,
          -400,
          -400,
          -400,
          -400,
          -400,
          -400,
          -400,
          -400,
          -400,
          -400,
          -400,
          -400,
          -400,
          -400,
          -400,
          -400,
          -400,
          -400,
          -400,
          -400,
          -400,
          -400,
          -400,
          -400,
          -400,
          -400,
          -400,
          -400,
          -400,
          -400,
          -400,
          -400,
          -400,
          -400,
          -400,
          -400,
          -400,
          -400,
          -400,
          -400,
          -400,
          -400,
          -400,
          -400,
          -400,
          -400,
          -400,
          -400,
          -400,
          -400,
          -400,
          -400,
          -400,
          -400,
          -400,
          -400,
          -400,
          -400,
          -400,
          -400,
          -400,
          -400,
          -400,
          -400,
          -400,
          -400,
          -400,
          -400,
          -400,
          -400,
          -400,
          -400,
          -400,
          -400,
          -400,
          -400,
          -400,
          -400,
          -400,
          -400,
          -400,
          -400,
          -400,
          -400,
          -400,
          -400,
          -400,
          -400,
          -400,
          -400,
          -400,
          -400,
          -400,
          -400,
          -400,
          -400,
          -400,
          -400,
          -400,
          -400,
          -400,
          -400,
          -400,
          -400,
          -400,
          -400,
          -400,
          -400,
          -400,
          -400,
          -400,
          -400,
          -400,
          -400,
          -400,
          -400,
          -400,
          -400,
          -400,
          -400,
          -400,
          -400,
          -400,
          -400,
          -400,
          -400,
          -400,
          -400,
          -400,
          -400,
          -400,
          -400,
          -400,
          -400,
          -400,
          -400,
          -400
         ],
         "yaxis": "y"
        },
        {
         "hovertemplate": "Breakeven: $94.00",
         "marker": {
          "color": "#1f77b4",
          "size": 10,
          "symbol": "circle"
         },
         "mode": "markers",
         "name": "butterfly spread BE: $94.00",
         "showlegend": false,
         "type": "scatter",
         "x": [
          94
         ],
         "xaxis": "x",
         "y": [
          0
         ],
         "yaxis": "y"
        },
        {
         "hovertemplate": "Breakeven: $106.00",
         "marker": {
          "color": "#1f77b4",
          "size": 10,
          "symbol": "circle"
         },
         "mode": "markers",
         "name": "butterfly spread BE: $106.00",
         "showlegend": false,
         "type": "scatter",
         "x": [
          106
         ],
         "xaxis": "x",
         "y": [
          0
         ],
         "yaxis": "y"
        },
        {
         "hovertemplate": "Max Profit: $600.00<br>at Stock Price: $100.00",
         "marker": {
          "color": "#1f77b4",
          "line": {
           "color": "white",
           "width": 2
          },
          "size": 12,
          "symbol": "star"
         },
         "mode": "markers",
         "name": "butterfly spread Max Profit",
         "showlegend": false,
         "type": "scatter",
         "x": [
          100
         ],
         "xaxis": "x",
         "y": [
          600
         ],
         "yaxis": "y"
        },
        {
         "cells": {
          "align": "left",
          "fill": {
           "color": [
            [
             "rgba(240, 240, 240, 0.8)"
            ],
            [
             "rgba(240, 240, 240, 0.8)"
            ],
            [
             "rgba(240, 240, 240, 0.8)"
            ],
            [
             "rgba(240, 240, 240, 0.8)"
            ],
            [
             "rgba(240, 240, 240, 0.8)"
            ]
           ]
          },
          "font": {
           "size": 13
          },
          "values": [
           [
            "butterfly spread"
           ],
           [
            "$-400.00"
           ],
           [
            "$600.00"
           ],
           [
            "$-400.00"
           ],
           [
            "$94.00, $106.00"
           ]
          ]
         },
         "columnwidth": [
          0.8,
          0.7,
          0.7,
          0.7,
          1.5
         ],
         "domain": {
          "x": [
           0,
           1
          ],
          "y": [
           0,
           0.18000000000000002
          ]
         },
         "header": {
          "align": "left",
          "fill": {
           "color": "rgba(30, 144, 255, 0.8)"
          },
          "font": {
           "color": "white",
           "size": 14
          },
          "values": [
           "Strategy",
           "Initial Cost",
           "Max Profit",
           "Max Loss",
           "Breakeven Points"
          ]
         },
         "type": "table"
        }
       ],
       "layout": {
        "annotations": [
         {
          "font": {
           "size": 18
          },
          "showarrow": false,
          "text": "Butterfly Spread",
          "x": 0.5,
          "xanchor": "center",
          "xref": "paper",
          "y": 1,
          "yanchor": "bottom",
          "yref": "paper"
         },
         {
          "font": {
           "size": 18
          },
          "showarrow": false,
          "text": "Strategy Summary",
          "x": 0.5,
          "xanchor": "center",
          "xref": "paper",
          "y": 0.18000000000000002,
          "yanchor": "bottom",
          "yref": "paper"
         },
         {
          "arrowcolor": "#1f77b4",
          "arrowhead": 2,
          "arrowsize": 1,
          "arrowwidth": 2,
          "ax": 0,
          "ay": 40,
          "bgcolor": "white",
          "bordercolor": "#1f77b4",
          "borderpad": 4,
          "borderwidth": 2,
          "font": {
           "color": "#1f77b4",
           "size": 18
          },
          "opacity": 0.8,
          "showarrow": true,
          "text": "BE: $94.00",
          "x": 94,
          "xref": "x",
          "y": 0,
          "yref": "y"
         },
         {
          "arrowcolor": "#1f77b4",
          "arrowhead": 2,
          "arrowsize": 1,
          "arrowwidth": 2,
          "ax": 0,
          "ay": 40,
          "bgcolor": "white",
          "bordercolor": "#1f77b4",
          "borderpad": 4,
          "borderwidth": 2,
          "font": {
           "color": "#1f77b4",
           "size": 18
          },
          "opacity": 0.8,
          "showarrow": true,
          "text": "BE: $106.00",
          "x": 106,
          "xref": "x",
          "y": 0,
          "yref": "y"
         }
        ],
        "height": 900,
        "hoverlabel": {
         "bgcolor": "white",
         "font": {
          "family": "Arial",
          "size": 14
         }
        },
        "hovermode": "closest",
        "legend": {
         "bgcolor": "rgba(255, 255, 255, 0.8)",
         "bordercolor": "lightgrey",
         "borderwidth": 1,
         "x": 0.01,
         "y": 0.99
        },
        "margin": {
         "b": 20,
         "l": 60,
         "r": 60,
         "t": 60
        },
        "shapes": [
         {
          "line": {
           "color": "black",
           "dash": "dash",
           "width": 2
          },
          "type": "line",
          "x0": 0,
          "x1": 200,
          "xref": "x",
          "y0": 0,
          "y1": 0,
          "yref": "y"
         }
        ],
        "template": {
         "data": {
          "bar": [
           {
            "error_x": {
             "color": "#2a3f5f"
            },
            "error_y": {
             "color": "#2a3f5f"
            },
            "marker": {
             "line": {
              "color": "white",
              "width": 0.5
             },
             "pattern": {
              "fillmode": "overlay",
              "size": 10,
              "solidity": 0.2
             }
            },
            "type": "bar"
           }
          ],
          "barpolar": [
           {
            "marker": {
             "line": {
              "color": "white",
              "width": 0.5
             },
             "pattern": {
              "fillmode": "overlay",
              "size": 10,
              "solidity": 0.2
             }
            },
            "type": "barpolar"
           }
          ],
          "carpet": [
           {
            "aaxis": {
             "endlinecolor": "#2a3f5f",
             "gridcolor": "#C8D4E3",
             "linecolor": "#C8D4E3",
             "minorgridcolor": "#C8D4E3",
             "startlinecolor": "#2a3f5f"
            },
            "baxis": {
             "endlinecolor": "#2a3f5f",
             "gridcolor": "#C8D4E3",
             "linecolor": "#C8D4E3",
             "minorgridcolor": "#C8D4E3",
             "startlinecolor": "#2a3f5f"
            },
            "type": "carpet"
           }
          ],
          "choropleth": [
           {
            "colorbar": {
             "outlinewidth": 0,
             "ticks": ""
            },
            "type": "choropleth"
           }
          ],
          "contour": [
           {
            "colorbar": {
             "outlinewidth": 0,
             "ticks": ""
            },
            "colorscale": [
             [
              0,
              "#0d0887"
             ],
             [
              0.1111111111111111,
              "#46039f"
             ],
             [
              0.2222222222222222,
              "#7201a8"
             ],
             [
              0.3333333333333333,
              "#9c179e"
             ],
             [
              0.4444444444444444,
              "#bd3786"
             ],
             [
              0.5555555555555556,
              "#d8576b"
             ],
             [
              0.6666666666666666,
              "#ed7953"
             ],
             [
              0.7777777777777778,
              "#fb9f3a"
             ],
             [
              0.8888888888888888,
              "#fdca26"
             ],
             [
              1,
              "#f0f921"
             ]
            ],
            "type": "contour"
           }
          ],
          "contourcarpet": [
           {
            "colorbar": {
             "outlinewidth": 0,
             "ticks": ""
            },
            "type": "contourcarpet"
           }
          ],
          "heatmap": [
           {
            "colorbar": {
             "outlinewidth": 0,
             "ticks": ""
            },
            "colorscale": [
             [
              0,
              "#0d0887"
             ],
             [
              0.1111111111111111,
              "#46039f"
             ],
             [
              0.2222222222222222,
              "#7201a8"
             ],
             [
              0.3333333333333333,
              "#9c179e"
             ],
             [
              0.4444444444444444,
              "#bd3786"
             ],
             [
              0.5555555555555556,
              "#d8576b"
             ],
             [
              0.6666666666666666,
              "#ed7953"
             ],
             [
              0.7777777777777778,
              "#fb9f3a"
             ],
             [
              0.8888888888888888,
              "#fdca26"
             ],
             [
              1,
              "#f0f921"
             ]
            ],
            "type": "heatmap"
           }
          ],
          "histogram": [
           {
            "marker": {
             "pattern": {
              "fillmode": "overlay",
              "size": 10,
              "solidity": 0.2
             }
            },
            "type": "histogram"
           }
          ],
          "histogram2d": [
           {
            "colorbar": {
             "outlinewidth": 0,
             "ticks": ""
            },
            "colorscale": [
             [
              0,
              "#0d0887"
             ],
             [
              0.1111111111111111,
              "#46039f"
             ],
             [
              0.2222222222222222,
              "#7201a8"
             ],
             [
              0.3333333333333333,
              "#9c179e"
             ],
             [
              0.4444444444444444,
              "#bd3786"
             ],
             [
              0.5555555555555556,
              "#d8576b"
             ],
             [
              0.6666666666666666,
              "#ed7953"
             ],
             [
              0.7777777777777778,
              "#fb9f3a"
             ],
             [
              0.8888888888888888,
              "#fdca26"
             ],
             [
              1,
              "#f0f921"
             ]
            ],
            "type": "histogram2d"
           }
          ],
          "histogram2dcontour": [
           {
            "colorbar": {
             "outlinewidth": 0,
             "ticks": ""
            },
            "colorscale": [
             [
              0,
              "#0d0887"
             ],
             [
              0.1111111111111111,
              "#46039f"
             ],
             [
              0.2222222222222222,
              "#7201a8"
             ],
             [
              0.3333333333333333,
              "#9c179e"
             ],
             [
              0.4444444444444444,
              "#bd3786"
             ],
             [
              0.5555555555555556,
              "#d8576b"
             ],
             [
              0.6666666666666666,
              "#ed7953"
             ],
             [
              0.7777777777777778,
              "#fb9f3a"
             ],
             [
              0.8888888888888888,
              "#fdca26"
             ],
             [
              1,
              "#f0f921"
             ]
            ],
            "type": "histogram2dcontour"
           }
          ],
          "mesh3d": [
           {
            "colorbar": {
             "outlinewidth": 0,
             "ticks": ""
            },
            "type": "mesh3d"
           }
          ],
          "parcoords": [
           {
            "line": {
             "colorbar": {
              "outlinewidth": 0,
              "ticks": ""
             }
            },
            "type": "parcoords"
           }
          ],
          "pie": [
           {
            "automargin": true,
            "type": "pie"
           }
          ],
          "scatter": [
           {
            "fillpattern": {
             "fillmode": "overlay",
             "size": 10,
             "solidity": 0.2
            },
            "type": "scatter"
           }
          ],
          "scatter3d": [
           {
            "line": {
             "colorbar": {
              "outlinewidth": 0,
              "ticks": ""
             }
            },
            "marker": {
             "colorbar": {
              "outlinewidth": 0,
              "ticks": ""
             }
            },
            "type": "scatter3d"
           }
          ],
          "scattercarpet": [
           {
            "marker": {
             "colorbar": {
              "outlinewidth": 0,
              "ticks": ""
             }
            },
            "type": "scattercarpet"
           }
          ],
          "scattergeo": [
           {
            "marker": {
             "colorbar": {
              "outlinewidth": 0,
              "ticks": ""
             }
            },
            "type": "scattergeo"
           }
          ],
          "scattergl": [
           {
            "marker": {
             "colorbar": {
              "outlinewidth": 0,
              "ticks": ""
             }
            },
            "type": "scattergl"
           }
          ],
          "scattermap": [
           {
            "marker": {
             "colorbar": {
              "outlinewidth": 0,
              "ticks": ""
             }
            },
            "type": "scattermap"
           }
          ],
          "scattermapbox": [
           {
            "marker": {
             "colorbar": {
              "outlinewidth": 0,
              "ticks": ""
             }
            },
            "type": "scattermapbox"
           }
          ],
          "scatterpolar": [
           {
            "marker": {
             "colorbar": {
              "outlinewidth": 0,
              "ticks": ""
             }
            },
            "type": "scatterpolar"
           }
          ],
          "scatterpolargl": [
           {
            "marker": {
             "colorbar": {
              "outlinewidth": 0,
              "ticks": ""
             }
            },
            "type": "scatterpolargl"
           }
          ],
          "scatterternary": [
           {
            "marker": {
             "colorbar": {
              "outlinewidth": 0,
              "ticks": ""
             }
            },
            "type": "scatterternary"
           }
          ],
          "surface": [
           {
            "colorbar": {
             "outlinewidth": 0,
             "ticks": ""
            },
            "colorscale": [
             [
              0,
              "#0d0887"
             ],
             [
              0.1111111111111111,
              "#46039f"
             ],
             [
              0.2222222222222222,
              "#7201a8"
             ],
             [
              0.3333333333333333,
              "#9c179e"
             ],
             [
              0.4444444444444444,
              "#bd3786"
             ],
             [
              0.5555555555555556,
              "#d8576b"
             ],
             [
              0.6666666666666666,
              "#ed7953"
             ],
             [
              0.7777777777777778,
              "#fb9f3a"
             ],
             [
              0.8888888888888888,
              "#fdca26"
             ],
             [
              1,
              "#f0f921"
             ]
            ],
            "type": "surface"
           }
          ],
          "table": [
           {
            "cells": {
             "fill": {
              "color": "#EBF0F8"
             },
             "line": {
              "color": "white"
             }
            },
            "header": {
             "fill": {
              "color": "#C8D4E3"
             },
             "line": {
              "color": "white"
             }
            },
            "type": "table"
           }
          ]
         },
         "layout": {
          "annotationdefaults": {
           "arrowcolor": "#2a3f5f",
           "arrowhead": 0,
           "arrowwidth": 1
          },
          "autotypenumbers": "strict",
          "coloraxis": {
           "colorbar": {
            "outlinewidth": 0,
            "ticks": ""
           }
          },
          "colorscale": {
           "diverging": [
            [
             0,
             "#8e0152"
            ],
            [
             0.1,
             "#c51b7d"
            ],
            [
             0.2,
             "#de77ae"
            ],
            [
             0.3,
             "#f1b6da"
            ],
            [
             0.4,
             "#fde0ef"
            ],
            [
             0.5,
             "#f7f7f7"
            ],
            [
             0.6,
             "#e6f5d0"
            ],
            [
             0.7,
             "#b8e186"
            ],
            [
             0.8,
             "#7fbc41"
            ],
            [
             0.9,
             "#4d9221"
            ],
            [
             1,
             "#276419"
            ]
           ],
           "sequential": [
            [
             0,
             "#0d0887"
            ],
            [
             0.1111111111111111,
             "#46039f"
            ],
            [
             0.2222222222222222,
             "#7201a8"
            ],
            [
             0.3333333333333333,
             "#9c179e"
            ],
            [
             0.4444444444444444,
             "#bd3786"
            ],
            [
             0.5555555555555556,
             "#d8576b"
            ],
            [
             0.6666666666666666,
             "#ed7953"
            ],
            [
             0.7777777777777778,
             "#fb9f3a"
            ],
            [
             0.8888888888888888,
             "#fdca26"
            ],
            [
             1,
             "#f0f921"
            ]
           ],
           "sequentialminus": [
            [
             0,
             "#0d0887"
            ],
            [
             0.1111111111111111,
             "#46039f"
            ],
            [
             0.2222222222222222,
             "#7201a8"
            ],
            [
             0.3333333333333333,
             "#9c179e"
            ],
            [
             0.4444444444444444,
             "#bd3786"
            ],
            [
             0.5555555555555556,
             "#d8576b"
            ],
            [
             0.6666666666666666,
             "#ed7953"
            ],
            [
             0.7777777777777778,
             "#fb9f3a"
            ],
            [
             0.8888888888888888,
             "#fdca26"
            ],
            [
             1,
             "#f0f921"
            ]
           ]
          },
          "colorway": [
           "#636efa",
           "#EF553B",
           "#00cc96",
           "#ab63fa",
           "#FFA15A",
           "#19d3f3",
           "#FF6692",
           "#B6E880",
           "#FF97FF",
           "#FECB52"
          ],
          "font": {
           "color": "#2a3f5f"
          },
          "geo": {
           "bgcolor": "white",
           "lakecolor": "white",
           "landcolor": "white",
           "showlakes": true,
           "showland": true,
           "subunitcolor": "#C8D4E3"
          },
          "hoverlabel": {
           "align": "left"
          },
          "hovermode": "closest",
          "mapbox": {
           "style": "light"
          },
          "paper_bgcolor": "white",
          "plot_bgcolor": "white",
          "polar": {
           "angularaxis": {
            "gridcolor": "#EBF0F8",
            "linecolor": "#EBF0F8",
            "ticks": ""
           },
           "bgcolor": "white",
           "radialaxis": {
            "gridcolor": "#EBF0F8",
            "linecolor": "#EBF0F8",
            "ticks": ""
           }
          },
          "scene": {
           "xaxis": {
            "backgroundcolor": "white",
            "gridcolor": "#DFE8F3",
            "gridwidth": 2,
            "linecolor": "#EBF0F8",
            "showbackground": true,
            "ticks": "",
            "zerolinecolor": "#EBF0F8"
           },
           "yaxis": {
            "backgroundcolor": "white",
            "gridcolor": "#DFE8F3",
            "gridwidth": 2,
            "linecolor": "#EBF0F8",
            "showbackground": true,
            "ticks": "",
            "zerolinecolor": "#EBF0F8"
           },
           "zaxis": {
            "backgroundcolor": "white",
            "gridcolor": "#DFE8F3",
            "gridwidth": 2,
            "linecolor": "#EBF0F8",
            "showbackground": true,
            "ticks": "",
            "zerolinecolor": "#EBF0F8"
           }
          },
          "shapedefaults": {
           "line": {
            "color": "#2a3f5f"
           }
          },
          "ternary": {
           "aaxis": {
            "gridcolor": "#DFE8F3",
            "linecolor": "#A2B1C6",
            "ticks": ""
           },
           "baxis": {
            "gridcolor": "#DFE8F3",
            "linecolor": "#A2B1C6",
            "ticks": ""
           },
           "bgcolor": "white",
           "caxis": {
            "gridcolor": "#DFE8F3",
            "linecolor": "#A2B1C6",
            "ticks": ""
           }
          },
          "title": {
           "x": 0.05
          },
          "xaxis": {
           "automargin": true,
           "gridcolor": "#EBF0F8",
           "linecolor": "#EBF0F8",
           "ticks": "",
           "title": {
            "standoff": 15
           },
           "zerolinecolor": "#EBF0F8",
           "zerolinewidth": 2
          },
          "yaxis": {
           "automargin": true,
           "gridcolor": "#EBF0F8",
           "linecolor": "#EBF0F8",
           "ticks": "",
           "title": {
            "standoff": 15
           },
           "zerolinecolor": "#EBF0F8",
           "zerolinewidth": 2
          }
         }
        },
        "xaxis": {
         "anchor": "y",
         "domain": [
          0,
          1
         ],
         "gridcolor": "lightgrey",
         "tickprefix": "$",
         "title": {
          "text": "Stock Price at Expiration"
         }
        },
        "yaxis": {
         "anchor": "x",
         "domain": [
          0.28,
          1
         ],
         "gridcolor": "lightgrey",
         "tickformat": ",.0f",
         "tickprefix": "$",
         "title": {
          "text": "Profit/Loss"
         },
         "zerolinecolor": "black",
         "zerolinewidth": 2
        }
       }
      }
     },
     "metadata": {},
     "output_type": "display_data"
    }
   ],
   "source": [
    "butterfly_spread = OptionsStrategy(\"butterfly spread\")\n",
    "butterfly_spread.add_option(\"call\", 90, 12)\n",
    "butterfly_spread.add_option(\"call\", 110, 2)\n",
    "butterfly_spread.add_option(\"call\", 100, 5, position=-1, contracts=2)\n",
    "\n",
    "ploting.plot_strategy_pnl_plotly(\n",
    "    [butterfly_spread],\n",
    "    (0,200,0.5),\n",
    "    \"Butterfly Spread\"\n",
    ")"
   ]
  },
  {
   "cell_type": "markdown",
   "id": "f0a93fbe",
   "metadata": {},
   "source": [
    "### Covered Call"
   ]
  },
  {
   "cell_type": "code",
   "execution_count": 15,
   "id": "663b5b19",
   "metadata": {},
   "outputs": [
    {
     "data": {
      "application/vnd.plotly.v1+json": {
       "config": {
        "plotlyServerURL": "https://plot.ly"
       },
       "data": [
        {
         "hovertemplate": "<b>Covered Call</b><br>Stock Price: $%{x:.2f}<br>P&L: $%{y:.2f}<br>Initial Cost: $-9700.00<br>Max Profit: $800.00<br>Max Loss: $-9700.00",
         "line": {
          "color": "#1f77b4",
          "width": 3
         },
         "mode": "lines",
         "name": "Covered Call",
         "type": "scatter",
         "x": {
          "bdata": "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",
          "dtype": "f8"
         },
         "xaxis": "x",
         "y": [
          -9700,
          -9650,
          -9600,
          -9550,
          -9500,
          -9450,
          -9400,
          -9350,
          -9300,
          -9250,
          -9200,
          -9150,
          -9100,
          -9050,
          -9000,
          -8950,
          -8900,
          -8850,
          -8800,
          -8750,
          -8700,
          -8650,
          -8600,
          -8550,
          -8500,
          -8450,
          -8400,
          -8350,
          -8300,
          -8250,
          -8200,
          -8150,
          -8100,
          -8050,
          -8000,
          -7950,
          -7900,
          -7850,
          -7800,
          -7750,
          -7700,
          -7650,
          -7600,
          -7550,
          -7500,
          -7450,
          -7400,
          -7350,
          -7300,
          -7250,
          -7200,
          -7150,
          -7100,
          -7050,
          -7000,
          -6950,
          -6900,
          -6850,
          -6800,
          -6750,
          -6700,
          -6650,
          -6600,
          -6550,
          -6500,
          -6450,
          -6400,
          -6350,
          -6300,
          -6250,
          -6200,
          -6150,
          -6100,
          -6050,
          -6000,
          -5950,
          -5900,
          -5850,
          -5800,
          -5750,
          -5700,
          -5650,
          -5600,
          -5550,
          -5500,
          -5450,
          -5400,
          -5350,
          -5300,
          -5250,
          -5200,
          -5150,
          -5100,
          -5050,
          -5000,
          -4950,
          -4900,
          -4850,
          -4800,
          -4750,
          -4700,
          -4650,
          -4600,
          -4550,
          -4500,
          -4450,
          -4400,
          -4350,
          -4300,
          -4250,
          -4200,
          -4150,
          -4100,
          -4050,
          -4000,
          -3950,
          -3900,
          -3850,
          -3800,
          -3750,
          -3700,
          -3650,
          -3600,
          -3550,
          -3500,
          -3450,
          -3400,
          -3350,
          -3300,
          -3250,
          -3200,
          -3150,
          -3100,
          -3050,
          -3000,
          -2950,
          -2900,
          -2850,
          -2800,
          -2750,
          -2700,
          -2650,
          -2600,
          -2550,
          -2500,
          -2450,
          -2400,
          -2350,
          -2300,
          -2250,
          -2200,
          -2150,
          -2100,
          -2050,
          -2000,
          -1950,
          -1900,
          -1850,
          -1800,
          -1750,
          -1700,
          -1650,
          -1600,
          -1550,
          -1500,
          -1450,
          -1400,
          -1350,
          -1300,
          -1250,
          -1200,
          -1150,
          -1100,
          -1050,
          -1000,
          -950,
          -900,
          -850,
          -800,
          -750,
          -700,
          -650,
          -600,
          -550,
          -500,
          -450,
          -400,
          -350,
          -300,
          -250,
          -200,
          -150,
          -100,
          -50,
          0,
          50,
          100,
          150,
          200,
          250,
          300,
          350,
          400,
          450,
          500,
          550,
          600,
          650,
          700,
          750,
          800,
          800,
          800,
          800,
          800,
          800,
          800,
          800,
          800,
          800,
          800,
          800,
          800,
          800,
          800,
          800,
          800,
          800,
          800,
          800,
          800,
          800,
          800,
          800,
          800,
          800,
          800,
          800,
          800,
          800,
          800,
          800,
          800,
          800,
          800,
          800,
          800,
          800,
          800,
          800,
          800,
          800,
          800,
          800,
          800,
          800,
          800,
          800,
          800,
          800,
          800,
          800,
          800,
          800,
          800,
          800,
          800,
          800,
          800,
          800,
          800,
          800,
          800,
          800,
          800,
          800,
          800,
          800,
          800,
          800,
          800,
          800,
          800,
          800,
          800,
          800,
          800,
          800,
          800,
          800,
          800,
          800,
          800,
          800,
          800,
          800,
          800,
          800,
          800,
          800,
          800,
          800,
          800,
          800,
          800,
          800,
          800,
          800,
          800,
          800,
          800,
          800,
          800,
          800,
          800,
          800,
          800,
          800,
          800,
          800,
          800,
          800,
          800,
          800,
          800,
          800,
          800,
          800,
          800,
          800,
          800,
          800,
          800,
          800,
          800,
          800,
          800,
          800,
          800,
          800,
          800,
          800,
          800,
          800,
          800,
          800,
          800,
          800,
          800,
          800,
          800,
          800,
          800,
          800,
          800,
          800,
          800,
          800,
          800,
          800,
          800,
          800,
          800,
          800,
          800,
          800,
          800,
          800,
          800,
          800,
          800,
          800,
          800,
          800,
          800,
          800,
          800,
          800,
          800,
          800,
          800,
          800,
          800,
          800,
          800,
          800,
          800,
          800,
          800,
          800,
          800,
          800,
          800,
          800,
          800,
          800,
          800,
          800,
          800,
          800
         ],
         "yaxis": "y"
        },
        {
         "hovertemplate": "Breakeven: $97.00",
         "marker": {
          "color": "#1f77b4",
          "size": 10,
          "symbol": "circle"
         },
         "mode": "markers",
         "name": "Covered Call BE: $97.00",
         "showlegend": false,
         "type": "scatter",
         "x": [
          97
         ],
         "xaxis": "x",
         "y": [
          0
         ],
         "yaxis": "y"
        },
        {
         "hovertemplate": "Max Profit: $800.00<br>at Stock Price: $105.00",
         "marker": {
          "color": "#1f77b4",
          "line": {
           "color": "white",
           "width": 2
          },
          "size": 12,
          "symbol": "star"
         },
         "mode": "markers",
         "name": "Covered Call Max Profit",
         "showlegend": false,
         "type": "scatter",
         "x": [
          105
         ],
         "xaxis": "x",
         "y": [
          800
         ],
         "yaxis": "y"
        },
        {
         "cells": {
          "align": "left",
          "fill": {
           "color": [
            [
             "rgba(240, 240, 240, 0.8)"
            ],
            [
             "rgba(240, 240, 240, 0.8)"
            ],
            [
             "rgba(240, 240, 240, 0.8)"
            ],
            [
             "rgba(240, 240, 240, 0.8)"
            ],
            [
             "rgba(240, 240, 240, 0.8)"
            ]
           ]
          },
          "font": {
           "size": 13
          },
          "values": [
           [
            "Covered Call"
           ],
           [
            "$-9700.00"
           ],
           [
            "$800.00"
           ],
           [
            "$-9700.00"
           ],
           [
            "$97.00"
           ]
          ]
         },
         "columnwidth": [
          0.8,
          0.7,
          0.7,
          0.7,
          1.5
         ],
         "domain": {
          "x": [
           0,
           1
          ],
          "y": [
           0,
           0.18000000000000002
          ]
         },
         "header": {
          "align": "left",
          "fill": {
           "color": "rgba(30, 144, 255, 0.8)"
          },
          "font": {
           "color": "white",
           "size": 14
          },
          "values": [
           "Strategy",
           "Initial Cost",
           "Max Profit",
           "Max Loss",
           "Breakeven Points"
          ]
         },
         "type": "table"
        }
       ],
       "layout": {
        "annotations": [
         {
          "font": {
           "size": 18
          },
          "showarrow": false,
          "text": "Covered Call",
          "x": 0.5,
          "xanchor": "center",
          "xref": "paper",
          "y": 1,
          "yanchor": "bottom",
          "yref": "paper"
         },
         {
          "font": {
           "size": 18
          },
          "showarrow": false,
          "text": "Strategy Summary",
          "x": 0.5,
          "xanchor": "center",
          "xref": "paper",
          "y": 0.18000000000000002,
          "yanchor": "bottom",
          "yref": "paper"
         },
         {
          "arrowcolor": "#1f77b4",
          "arrowhead": 2,
          "arrowsize": 1,
          "arrowwidth": 2,
          "ax": 0,
          "ay": 40,
          "bgcolor": "white",
          "bordercolor": "#1f77b4",
          "borderpad": 4,
          "borderwidth": 2,
          "font": {
           "color": "#1f77b4",
           "size": 18
          },
          "opacity": 0.8,
          "showarrow": true,
          "text": "BE: $97.00",
          "x": 97,
          "xref": "x",
          "y": 0,
          "yref": "y"
         }
        ],
        "height": 900,
        "hoverlabel": {
         "bgcolor": "white",
         "font": {
          "family": "Arial",
          "size": 14
         }
        },
        "hovermode": "closest",
        "legend": {
         "bgcolor": "rgba(255, 255, 255, 0.8)",
         "bordercolor": "lightgrey",
         "borderwidth": 1,
         "x": 0.01,
         "y": 0.99
        },
        "margin": {
         "b": 20,
         "l": 60,
         "r": 60,
         "t": 60
        },
        "shapes": [
         {
          "line": {
           "color": "black",
           "dash": "dash",
           "width": 2
          },
          "type": "line",
          "x0": 0,
          "x1": 200,
          "xref": "x",
          "y0": 0,
          "y1": 0,
          "yref": "y"
         }
        ],
        "template": {
         "data": {
          "bar": [
           {
            "error_x": {
             "color": "#2a3f5f"
            },
            "error_y": {
             "color": "#2a3f5f"
            },
            "marker": {
             "line": {
              "color": "white",
              "width": 0.5
             },
             "pattern": {
              "fillmode": "overlay",
              "size": 10,
              "solidity": 0.2
             }
            },
            "type": "bar"
           }
          ],
          "barpolar": [
           {
            "marker": {
             "line": {
              "color": "white",
              "width": 0.5
             },
             "pattern": {
              "fillmode": "overlay",
              "size": 10,
              "solidity": 0.2
             }
            },
            "type": "barpolar"
           }
          ],
          "carpet": [
           {
            "aaxis": {
             "endlinecolor": "#2a3f5f",
             "gridcolor": "#C8D4E3",
             "linecolor": "#C8D4E3",
             "minorgridcolor": "#C8D4E3",
             "startlinecolor": "#2a3f5f"
            },
            "baxis": {
             "endlinecolor": "#2a3f5f",
             "gridcolor": "#C8D4E3",
             "linecolor": "#C8D4E3",
             "minorgridcolor": "#C8D4E3",
             "startlinecolor": "#2a3f5f"
            },
            "type": "carpet"
           }
          ],
          "choropleth": [
           {
            "colorbar": {
             "outlinewidth": 0,
             "ticks": ""
            },
            "type": "choropleth"
           }
          ],
          "contour": [
           {
            "colorbar": {
             "outlinewidth": 0,
             "ticks": ""
            },
            "colorscale": [
             [
              0,
              "#0d0887"
             ],
             [
              0.1111111111111111,
              "#46039f"
             ],
             [
              0.2222222222222222,
              "#7201a8"
             ],
             [
              0.3333333333333333,
              "#9c179e"
             ],
             [
              0.4444444444444444,
              "#bd3786"
             ],
             [
              0.5555555555555556,
              "#d8576b"
             ],
             [
              0.6666666666666666,
              "#ed7953"
             ],
             [
              0.7777777777777778,
              "#fb9f3a"
             ],
             [
              0.8888888888888888,
              "#fdca26"
             ],
             [
              1,
              "#f0f921"
             ]
            ],
            "type": "contour"
           }
          ],
          "contourcarpet": [
           {
            "colorbar": {
             "outlinewidth": 0,
             "ticks": ""
            },
            "type": "contourcarpet"
           }
          ],
          "heatmap": [
           {
            "colorbar": {
             "outlinewidth": 0,
             "ticks": ""
            },
            "colorscale": [
             [
              0,
              "#0d0887"
             ],
             [
              0.1111111111111111,
              "#46039f"
             ],
             [
              0.2222222222222222,
              "#7201a8"
             ],
             [
              0.3333333333333333,
              "#9c179e"
             ],
             [
              0.4444444444444444,
              "#bd3786"
             ],
             [
              0.5555555555555556,
              "#d8576b"
             ],
             [
              0.6666666666666666,
              "#ed7953"
             ],
             [
              0.7777777777777778,
              "#fb9f3a"
             ],
             [
              0.8888888888888888,
              "#fdca26"
             ],
             [
              1,
              "#f0f921"
             ]
            ],
            "type": "heatmap"
           }
          ],
          "histogram": [
           {
            "marker": {
             "pattern": {
              "fillmode": "overlay",
              "size": 10,
              "solidity": 0.2
             }
            },
            "type": "histogram"
           }
          ],
          "histogram2d": [
           {
            "colorbar": {
             "outlinewidth": 0,
             "ticks": ""
            },
            "colorscale": [
             [
              0,
              "#0d0887"
             ],
             [
              0.1111111111111111,
              "#46039f"
             ],
             [
              0.2222222222222222,
              "#7201a8"
             ],
             [
              0.3333333333333333,
              "#9c179e"
             ],
             [
              0.4444444444444444,
              "#bd3786"
             ],
             [
              0.5555555555555556,
              "#d8576b"
             ],
             [
              0.6666666666666666,
              "#ed7953"
             ],
             [
              0.7777777777777778,
              "#fb9f3a"
             ],
             [
              0.8888888888888888,
              "#fdca26"
             ],
             [
              1,
              "#f0f921"
             ]
            ],
            "type": "histogram2d"
           }
          ],
          "histogram2dcontour": [
           {
            "colorbar": {
             "outlinewidth": 0,
             "ticks": ""
            },
            "colorscale": [
             [
              0,
              "#0d0887"
             ],
             [
              0.1111111111111111,
              "#46039f"
             ],
             [
              0.2222222222222222,
              "#7201a8"
             ],
             [
              0.3333333333333333,
              "#9c179e"
             ],
             [
              0.4444444444444444,
              "#bd3786"
             ],
             [
              0.5555555555555556,
              "#d8576b"
             ],
             [
              0.6666666666666666,
              "#ed7953"
             ],
             [
              0.7777777777777778,
              "#fb9f3a"
             ],
             [
              0.8888888888888888,
              "#fdca26"
             ],
             [
              1,
              "#f0f921"
             ]
            ],
            "type": "histogram2dcontour"
           }
          ],
          "mesh3d": [
           {
            "colorbar": {
             "outlinewidth": 0,
             "ticks": ""
            },
            "type": "mesh3d"
           }
          ],
          "parcoords": [
           {
            "line": {
             "colorbar": {
              "outlinewidth": 0,
              "ticks": ""
             }
            },
            "type": "parcoords"
           }
          ],
          "pie": [
           {
            "automargin": true,
            "type": "pie"
           }
          ],
          "scatter": [
           {
            "fillpattern": {
             "fillmode": "overlay",
             "size": 10,
             "solidity": 0.2
            },
            "type": "scatter"
           }
          ],
          "scatter3d": [
           {
            "line": {
             "colorbar": {
              "outlinewidth": 0,
              "ticks": ""
             }
            },
            "marker": {
             "colorbar": {
              "outlinewidth": 0,
              "ticks": ""
             }
            },
            "type": "scatter3d"
           }
          ],
          "scattercarpet": [
           {
            "marker": {
             "colorbar": {
              "outlinewidth": 0,
              "ticks": ""
             }
            },
            "type": "scattercarpet"
           }
          ],
          "scattergeo": [
           {
            "marker": {
             "colorbar": {
              "outlinewidth": 0,
              "ticks": ""
             }
            },
            "type": "scattergeo"
           }
          ],
          "scattergl": [
           {
            "marker": {
             "colorbar": {
              "outlinewidth": 0,
              "ticks": ""
             }
            },
            "type": "scattergl"
           }
          ],
          "scattermap": [
           {
            "marker": {
             "colorbar": {
              "outlinewidth": 0,
              "ticks": ""
             }
            },
            "type": "scattermap"
           }
          ],
          "scattermapbox": [
           {
            "marker": {
             "colorbar": {
              "outlinewidth": 0,
              "ticks": ""
             }
            },
            "type": "scattermapbox"
           }
          ],
          "scatterpolar": [
           {
            "marker": {
             "colorbar": {
              "outlinewidth": 0,
              "ticks": ""
             }
            },
            "type": "scatterpolar"
           }
          ],
          "scatterpolargl": [
           {
            "marker": {
             "colorbar": {
              "outlinewidth": 0,
              "ticks": ""
             }
            },
            "type": "scatterpolargl"
           }
          ],
          "scatterternary": [
           {
            "marker": {
             "colorbar": {
              "outlinewidth": 0,
              "ticks": ""
             }
            },
            "type": "scatterternary"
           }
          ],
          "surface": [
           {
            "colorbar": {
             "outlinewidth": 0,
             "ticks": ""
            },
            "colorscale": [
             [
              0,
              "#0d0887"
             ],
             [
              0.1111111111111111,
              "#46039f"
             ],
             [
              0.2222222222222222,
              "#7201a8"
             ],
             [
              0.3333333333333333,
              "#9c179e"
             ],
             [
              0.4444444444444444,
              "#bd3786"
             ],
             [
              0.5555555555555556,
              "#d8576b"
             ],
             [
              0.6666666666666666,
              "#ed7953"
             ],
             [
              0.7777777777777778,
              "#fb9f3a"
             ],
             [
              0.8888888888888888,
              "#fdca26"
             ],
             [
              1,
              "#f0f921"
             ]
            ],
            "type": "surface"
           }
          ],
          "table": [
           {
            "cells": {
             "fill": {
              "color": "#EBF0F8"
             },
             "line": {
              "color": "white"
             }
            },
            "header": {
             "fill": {
              "color": "#C8D4E3"
             },
             "line": {
              "color": "white"
             }
            },
            "type": "table"
           }
          ]
         },
         "layout": {
          "annotationdefaults": {
           "arrowcolor": "#2a3f5f",
           "arrowhead": 0,
           "arrowwidth": 1
          },
          "autotypenumbers": "strict",
          "coloraxis": {
           "colorbar": {
            "outlinewidth": 0,
            "ticks": ""
           }
          },
          "colorscale": {
           "diverging": [
            [
             0,
             "#8e0152"
            ],
            [
             0.1,
             "#c51b7d"
            ],
            [
             0.2,
             "#de77ae"
            ],
            [
             0.3,
             "#f1b6da"
            ],
            [
             0.4,
             "#fde0ef"
            ],
            [
             0.5,
             "#f7f7f7"
            ],
            [
             0.6,
             "#e6f5d0"
            ],
            [
             0.7,
             "#b8e186"
            ],
            [
             0.8,
             "#7fbc41"
            ],
            [
             0.9,
             "#4d9221"
            ],
            [
             1,
             "#276419"
            ]
           ],
           "sequential": [
            [
             0,
             "#0d0887"
            ],
            [
             0.1111111111111111,
             "#46039f"
            ],
            [
             0.2222222222222222,
             "#7201a8"
            ],
            [
             0.3333333333333333,
             "#9c179e"
            ],
            [
             0.4444444444444444,
             "#bd3786"
            ],
            [
             0.5555555555555556,
             "#d8576b"
            ],
            [
             0.6666666666666666,
             "#ed7953"
            ],
            [
             0.7777777777777778,
             "#fb9f3a"
            ],
            [
             0.8888888888888888,
             "#fdca26"
            ],
            [
             1,
             "#f0f921"
            ]
           ],
           "sequentialminus": [
            [
             0,
             "#0d0887"
            ],
            [
             0.1111111111111111,
             "#46039f"
            ],
            [
             0.2222222222222222,
             "#7201a8"
            ],
            [
             0.3333333333333333,
             "#9c179e"
            ],
            [
             0.4444444444444444,
             "#bd3786"
            ],
            [
             0.5555555555555556,
             "#d8576b"
            ],
            [
             0.6666666666666666,
             "#ed7953"
            ],
            [
             0.7777777777777778,
             "#fb9f3a"
            ],
            [
             0.8888888888888888,
             "#fdca26"
            ],
            [
             1,
             "#f0f921"
            ]
           ]
          },
          "colorway": [
           "#636efa",
           "#EF553B",
           "#00cc96",
           "#ab63fa",
           "#FFA15A",
           "#19d3f3",
           "#FF6692",
           "#B6E880",
           "#FF97FF",
           "#FECB52"
          ],
          "font": {
           "color": "#2a3f5f"
          },
          "geo": {
           "bgcolor": "white",
           "lakecolor": "white",
           "landcolor": "white",
           "showlakes": true,
           "showland": true,
           "subunitcolor": "#C8D4E3"
          },
          "hoverlabel": {
           "align": "left"
          },
          "hovermode": "closest",
          "mapbox": {
           "style": "light"
          },
          "paper_bgcolor": "white",
          "plot_bgcolor": "white",
          "polar": {
           "angularaxis": {
            "gridcolor": "#EBF0F8",
            "linecolor": "#EBF0F8",
            "ticks": ""
           },
           "bgcolor": "white",
           "radialaxis": {
            "gridcolor": "#EBF0F8",
            "linecolor": "#EBF0F8",
            "ticks": ""
           }
          },
          "scene": {
           "xaxis": {
            "backgroundcolor": "white",
            "gridcolor": "#DFE8F3",
            "gridwidth": 2,
            "linecolor": "#EBF0F8",
            "showbackground": true,
            "ticks": "",
            "zerolinecolor": "#EBF0F8"
           },
           "yaxis": {
            "backgroundcolor": "white",
            "gridcolor": "#DFE8F3",
            "gridwidth": 2,
            "linecolor": "#EBF0F8",
            "showbackground": true,
            "ticks": "",
            "zerolinecolor": "#EBF0F8"
           },
           "zaxis": {
            "backgroundcolor": "white",
            "gridcolor": "#DFE8F3",
            "gridwidth": 2,
            "linecolor": "#EBF0F8",
            "showbackground": true,
            "ticks": "",
            "zerolinecolor": "#EBF0F8"
           }
          },
          "shapedefaults": {
           "line": {
            "color": "#2a3f5f"
           }
          },
          "ternary": {
           "aaxis": {
            "gridcolor": "#DFE8F3",
            "linecolor": "#A2B1C6",
            "ticks": ""
           },
           "baxis": {
            "gridcolor": "#DFE8F3",
            "linecolor": "#A2B1C6",
            "ticks": ""
           },
           "bgcolor": "white",
           "caxis": {
            "gridcolor": "#DFE8F3",
            "linecolor": "#A2B1C6",
            "ticks": ""
           }
          },
          "title": {
           "x": 0.05
          },
          "xaxis": {
           "automargin": true,
           "gridcolor": "#EBF0F8",
           "linecolor": "#EBF0F8",
           "ticks": "",
           "title": {
            "standoff": 15
           },
           "zerolinecolor": "#EBF0F8",
           "zerolinewidth": 2
          },
          "yaxis": {
           "automargin": true,
           "gridcolor": "#EBF0F8",
           "linecolor": "#EBF0F8",
           "ticks": "",
           "title": {
            "standoff": 15
           },
           "zerolinecolor": "#EBF0F8",
           "zerolinewidth": 2
          }
         }
        },
        "xaxis": {
         "anchor": "y",
         "domain": [
          0,
          1
         ],
         "gridcolor": "lightgrey",
         "tickprefix": "$",
         "title": {
          "text": "Stock Price at Expiration"
         }
        },
        "yaxis": {
         "anchor": "x",
         "domain": [
          0.28,
          1
         ],
         "gridcolor": "lightgrey",
         "tickformat": ",.0f",
         "tickprefix": "$",
         "title": {
          "text": "Profit/Loss"
         },
         "zerolinecolor": "black",
         "zerolinewidth": 2
        }
       }
      }
     },
     "metadata": {},
     "output_type": "display_data"
    }
   ],
   "source": [
    "covered_call = OptionsStrategy(\"Covered Call\")\n",
    "covered_call.add_stock(100)  # Long stock at $100\n",
    "covered_call.add_option('call', 105, 3, position=-1)  # Short call\n",
    "\n",
    "ploting.plot_strategy_pnl_plotly(\n",
    "    [covered_call],\n",
    "    (0,200,0.5),\n",
    "    \"Covered Call\"\n",
    ")"
   ]
  },
  {
   "cell_type": "markdown",
   "id": "889115f1",
   "metadata": {},
   "source": [
    "### Iron Condor"
   ]
  },
  {
   "cell_type": "code",
   "execution_count": 17,
   "id": "0c0c7b42",
   "metadata": {},
   "outputs": [
    {
     "data": {
      "application/vnd.plotly.v1+json": {
       "config": {
        "plotlyServerURL": "https://plot.ly"
       },
       "data": [
        {
         "hovertemplate": "<b>Iron Condor</b><br>Stock Price: $%{x:.2f}<br>P&L: $%{y:.2f}<br>Initial Cost: $200.00<br>Max Profit: $200.00<br>Max Loss: $-800.00",
         "line": {
          "color": "#1f77b4",
          "width": 3
         },
         "mode": "lines",
         "name": "Iron Condor",
         "type": "scatter",
         "x": {
          "bdata": "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",
          "dtype": "f8"
         },
         "xaxis": "x",
         "y": [
          -800,
          -800,
          -800,
          -800,
          -800,
          -800,
          -800,
          -800,
          -800,
          -800,
          -800,
          -800,
          -800,
          -800,
          -800,
          -800,
          -800,
          -800,
          -800,
          -800,
          -800,
          -800,
          -800,
          -800,
          -800,
          -800,
          -800,
          -800,
          -800,
          -800,
          -800,
          -800,
          -800,
          -800,
          -800,
          -800,
          -800,
          -800,
          -800,
          -800,
          -800,
          -800,
          -800,
          -800,
          -800,
          -800,
          -800,
          -800,
          -800,
          -800,
          -800,
          -800,
          -800,
          -800,
          -800,
          -800,
          -800,
          -800,
          -800,
          -800,
          -800,
          -800,
          -800,
          -800,
          -800,
          -800,
          -800,
          -800,
          -800,
          -800,
          -800,
          -800,
          -800,
          -800,
          -800,
          -800,
          -800,
          -800,
          -800,
          -800,
          -800,
          -800,
          -800,
          -800,
          -800,
          -800,
          -800,
          -800,
          -800,
          -800,
          -800,
          -800,
          -800,
          -800,
          -800,
          -800,
          -800,
          -800,
          -800,
          -800,
          -800,
          -800,
          -800,
          -800,
          -800,
          -800,
          -800,
          -800,
          -800,
          -800,
          -800,
          -800,
          -800,
          -800,
          -800,
          -800,
          -800,
          -800,
          -800,
          -800,
          -800,
          -800,
          -800,
          -800,
          -800,
          -800,
          -800,
          -800,
          -800,
          -800,
          -800,
          -800,
          -800,
          -800,
          -800,
          -800,
          -800,
          -800,
          -800,
          -800,
          -800,
          -800,
          -800,
          -800,
          -800,
          -800,
          -800,
          -800,
          -800,
          -800,
          -800,
          -800,
          -800,
          -800,
          -800,
          -800,
          -800,
          -800,
          -800,
          -800,
          -800,
          -750,
          -700,
          -650,
          -600,
          -550,
          -500,
          -450,
          -400,
          -350,
          -300,
          -250,
          -200,
          -150,
          -100,
          -50,
          0,
          50,
          100,
          150,
          200,
          200,
          200,
          200,
          200,
          200,
          200,
          200,
          200,
          200,
          200,
          200,
          200,
          200,
          200,
          200,
          200,
          200,
          200,
          200,
          200,
          200,
          200,
          200,
          200,
          200,
          200,
          200,
          200,
          200,
          200,
          200,
          200,
          200,
          200,
          200,
          200,
          200,
          200,
          200,
          200,
          150,
          100,
          50,
          0,
          -50,
          -100,
          -150,
          -200,
          -250,
          -300,
          -350,
          -400,
          -450,
          -500,
          -550,
          -600,
          -650,
          -700,
          -750,
          -800,
          -800,
          -800,
          -800,
          -800,
          -800,
          -800,
          -800,
          -800,
          -800,
          -800,
          -800,
          -800,
          -800,
          -800,
          -800,
          -800,
          -800,
          -800,
          -800,
          -800,
          -800,
          -800,
          -800,
          -800,
          -800,
          -800,
          -800,
          -800,
          -800,
          -800,
          -800,
          -800,
          -800,
          -800,
          -800,
          -800,
          -800,
          -800,
          -800,
          -800,
          -800,
          -800,
          -800,
          -800,
          -800,
          -800,
          -800,
          -800,
          -800,
          -800,
          -800,
          -800,
          -800,
          -800,
          -800,
          -800,
          -800,
          -800,
          -800,
          -800,
          -800,
          -800,
          -800,
          -800,
          -800,
          -800,
          -800,
          -800,
          -800,
          -800,
          -800,
          -800,
          -800,
          -800,
          -800,
          -800,
          -800,
          -800,
          -800,
          -800,
          -800,
          -800,
          -800,
          -800,
          -800,
          -800,
          -800,
          -800,
          -800,
          -800,
          -800,
          -800,
          -800,
          -800,
          -800,
          -800,
          -800,
          -800,
          -800,
          -800,
          -800,
          -800,
          -800,
          -800,
          -800,
          -800,
          -800,
          -800,
          -800,
          -800,
          -800,
          -800,
          -800,
          -800,
          -800,
          -800,
          -800,
          -800,
          -800,
          -800,
          -800,
          -800,
          -800,
          -800,
          -800,
          -800,
          -800,
          -800,
          -800,
          -800,
          -800,
          -800,
          -800,
          -800,
          -800,
          -800,
          -800,
          -800,
          -800,
          -800,
          -800,
          -800,
          -800,
          -800,
          -800,
          -800,
          -800,
          -800,
          -800,
          -800,
          -800,
          -800,
          -800,
          -800,
          -800,
          -800,
          -800,
          -800,
          -800
         ],
         "yaxis": "y"
        },
        {
         "hovertemplate": "Breakeven: $88.00",
         "marker": {
          "color": "#1f77b4",
          "size": 10,
          "symbol": "circle"
         },
         "mode": "markers",
         "name": "Iron Condor BE: $88.00",
         "showlegend": false,
         "type": "scatter",
         "x": [
          88
         ],
         "xaxis": "x",
         "y": [
          0
         ],
         "yaxis": "y"
        },
        {
         "hovertemplate": "Breakeven: $112.00",
         "marker": {
          "color": "#1f77b4",
          "size": 10,
          "symbol": "circle"
         },
         "mode": "markers",
         "name": "Iron Condor BE: $112.00",
         "showlegend": false,
         "type": "scatter",
         "x": [
          112
         ],
         "xaxis": "x",
         "y": [
          0
         ],
         "yaxis": "y"
        },
        {
         "hovertemplate": "Max Profit: $200.00<br>at Stock Price: $90.00",
         "marker": {
          "color": "#1f77b4",
          "line": {
           "color": "white",
           "width": 2
          },
          "size": 12,
          "symbol": "star"
         },
         "mode": "markers",
         "name": "Iron Condor Max Profit",
         "showlegend": false,
         "type": "scatter",
         "x": [
          90
         ],
         "xaxis": "x",
         "y": [
          200
         ],
         "yaxis": "y"
        },
        {
         "cells": {
          "align": "left",
          "fill": {
           "color": [
            [
             "rgba(240, 240, 240, 0.8)"
            ],
            [
             "rgba(240, 240, 240, 0.8)"
            ],
            [
             "rgba(240, 240, 240, 0.8)"
            ],
            [
             "rgba(240, 240, 240, 0.8)"
            ],
            [
             "rgba(240, 240, 240, 0.8)"
            ]
           ]
          },
          "font": {
           "size": 13
          },
          "values": [
           [
            "Iron Condor"
           ],
           [
            "$200.00"
           ],
           [
            "$200.00"
           ],
           [
            "$-800.00"
           ],
           [
            "$88.00, $112.00"
           ]
          ]
         },
         "columnwidth": [
          0.8,
          0.7,
          0.7,
          0.7,
          1.5
         ],
         "domain": {
          "x": [
           0,
           1
          ],
          "y": [
           0,
           0.18000000000000002
          ]
         },
         "header": {
          "align": "left",
          "fill": {
           "color": "rgba(30, 144, 255, 0.8)"
          },
          "font": {
           "color": "white",
           "size": 14
          },
          "values": [
           "Strategy",
           "Initial Cost",
           "Max Profit",
           "Max Loss",
           "Breakeven Points"
          ]
         },
         "type": "table"
        }
       ],
       "layout": {
        "annotations": [
         {
          "font": {
           "size": 18
          },
          "showarrow": false,
          "text": "Iron Condor",
          "x": 0.5,
          "xanchor": "center",
          "xref": "paper",
          "y": 1,
          "yanchor": "bottom",
          "yref": "paper"
         },
         {
          "font": {
           "size": 18
          },
          "showarrow": false,
          "text": "Strategy Summary",
          "x": 0.5,
          "xanchor": "center",
          "xref": "paper",
          "y": 0.18000000000000002,
          "yanchor": "bottom",
          "yref": "paper"
         },
         {
          "arrowcolor": "#1f77b4",
          "arrowhead": 2,
          "arrowsize": 1,
          "arrowwidth": 2,
          "ax": 0,
          "ay": 40,
          "bgcolor": "white",
          "bordercolor": "#1f77b4",
          "borderpad": 4,
          "borderwidth": 2,
          "font": {
           "color": "#1f77b4",
           "size": 18
          },
          "opacity": 0.8,
          "showarrow": true,
          "text": "BE: $88.00",
          "x": 88,
          "xref": "x",
          "y": 0,
          "yref": "y"
         },
         {
          "arrowcolor": "#1f77b4",
          "arrowhead": 2,
          "arrowsize": 1,
          "arrowwidth": 2,
          "ax": 0,
          "ay": 40,
          "bgcolor": "white",
          "bordercolor": "#1f77b4",
          "borderpad": 4,
          "borderwidth": 2,
          "font": {
           "color": "#1f77b4",
           "size": 18
          },
          "opacity": 0.8,
          "showarrow": true,
          "text": "BE: $112.00",
          "x": 112,
          "xref": "x",
          "y": 0,
          "yref": "y"
         }
        ],
        "height": 900,
        "hoverlabel": {
         "bgcolor": "white",
         "font": {
          "family": "Arial",
          "size": 14
         }
        },
        "hovermode": "closest",
        "legend": {
         "bgcolor": "rgba(255, 255, 255, 0.8)",
         "bordercolor": "lightgrey",
         "borderwidth": 1,
         "x": 0.01,
         "y": 0.99
        },
        "margin": {
         "b": 20,
         "l": 60,
         "r": 60,
         "t": 60
        },
        "shapes": [
         {
          "line": {
           "color": "black",
           "dash": "dash",
           "width": 2
          },
          "type": "line",
          "x0": 0,
          "x1": 200,
          "xref": "x",
          "y0": 0,
          "y1": 0,
          "yref": "y"
         }
        ],
        "template": {
         "data": {
          "bar": [
           {
            "error_x": {
             "color": "#2a3f5f"
            },
            "error_y": {
             "color": "#2a3f5f"
            },
            "marker": {
             "line": {
              "color": "white",
              "width": 0.5
             },
             "pattern": {
              "fillmode": "overlay",
              "size": 10,
              "solidity": 0.2
             }
            },
            "type": "bar"
           }
          ],
          "barpolar": [
           {
            "marker": {
             "line": {
              "color": "white",
              "width": 0.5
             },
             "pattern": {
              "fillmode": "overlay",
              "size": 10,
              "solidity": 0.2
             }
            },
            "type": "barpolar"
           }
          ],
          "carpet": [
           {
            "aaxis": {
             "endlinecolor": "#2a3f5f",
             "gridcolor": "#C8D4E3",
             "linecolor": "#C8D4E3",
             "minorgridcolor": "#C8D4E3",
             "startlinecolor": "#2a3f5f"
            },
            "baxis": {
             "endlinecolor": "#2a3f5f",
             "gridcolor": "#C8D4E3",
             "linecolor": "#C8D4E3",
             "minorgridcolor": "#C8D4E3",
             "startlinecolor": "#2a3f5f"
            },
            "type": "carpet"
           }
          ],
          "choropleth": [
           {
            "colorbar": {
             "outlinewidth": 0,
             "ticks": ""
            },
            "type": "choropleth"
           }
          ],
          "contour": [
           {
            "colorbar": {
             "outlinewidth": 0,
             "ticks": ""
            },
            "colorscale": [
             [
              0,
              "#0d0887"
             ],
             [
              0.1111111111111111,
              "#46039f"
             ],
             [
              0.2222222222222222,
              "#7201a8"
             ],
             [
              0.3333333333333333,
              "#9c179e"
             ],
             [
              0.4444444444444444,
              "#bd3786"
             ],
             [
              0.5555555555555556,
              "#d8576b"
             ],
             [
              0.6666666666666666,
              "#ed7953"
             ],
             [
              0.7777777777777778,
              "#fb9f3a"
             ],
             [
              0.8888888888888888,
              "#fdca26"
             ],
             [
              1,
              "#f0f921"
             ]
            ],
            "type": "contour"
           }
          ],
          "contourcarpet": [
           {
            "colorbar": {
             "outlinewidth": 0,
             "ticks": ""
            },
            "type": "contourcarpet"
           }
          ],
          "heatmap": [
           {
            "colorbar": {
             "outlinewidth": 0,
             "ticks": ""
            },
            "colorscale": [
             [
              0,
              "#0d0887"
             ],
             [
              0.1111111111111111,
              "#46039f"
             ],
             [
              0.2222222222222222,
              "#7201a8"
             ],
             [
              0.3333333333333333,
              "#9c179e"
             ],
             [
              0.4444444444444444,
              "#bd3786"
             ],
             [
              0.5555555555555556,
              "#d8576b"
             ],
             [
              0.6666666666666666,
              "#ed7953"
             ],
             [
              0.7777777777777778,
              "#fb9f3a"
             ],
             [
              0.8888888888888888,
              "#fdca26"
             ],
             [
              1,
              "#f0f921"
             ]
            ],
            "type": "heatmap"
           }
          ],
          "histogram": [
           {
            "marker": {
             "pattern": {
              "fillmode": "overlay",
              "size": 10,
              "solidity": 0.2
             }
            },
            "type": "histogram"
           }
          ],
          "histogram2d": [
           {
            "colorbar": {
             "outlinewidth": 0,
             "ticks": ""
            },
            "colorscale": [
             [
              0,
              "#0d0887"
             ],
             [
              0.1111111111111111,
              "#46039f"
             ],
             [
              0.2222222222222222,
              "#7201a8"
             ],
             [
              0.3333333333333333,
              "#9c179e"
             ],
             [
              0.4444444444444444,
              "#bd3786"
             ],
             [
              0.5555555555555556,
              "#d8576b"
             ],
             [
              0.6666666666666666,
              "#ed7953"
             ],
             [
              0.7777777777777778,
              "#fb9f3a"
             ],
             [
              0.8888888888888888,
              "#fdca26"
             ],
             [
              1,
              "#f0f921"
             ]
            ],
            "type": "histogram2d"
           }
          ],
          "histogram2dcontour": [
           {
            "colorbar": {
             "outlinewidth": 0,
             "ticks": ""
            },
            "colorscale": [
             [
              0,
              "#0d0887"
             ],
             [
              0.1111111111111111,
              "#46039f"
             ],
             [
              0.2222222222222222,
              "#7201a8"
             ],
             [
              0.3333333333333333,
              "#9c179e"
             ],
             [
              0.4444444444444444,
              "#bd3786"
             ],
             [
              0.5555555555555556,
              "#d8576b"
             ],
             [
              0.6666666666666666,
              "#ed7953"
             ],
             [
              0.7777777777777778,
              "#fb9f3a"
             ],
             [
              0.8888888888888888,
              "#fdca26"
             ],
             [
              1,
              "#f0f921"
             ]
            ],
            "type": "histogram2dcontour"
           }
          ],
          "mesh3d": [
           {
            "colorbar": {
             "outlinewidth": 0,
             "ticks": ""
            },
            "type": "mesh3d"
           }
          ],
          "parcoords": [
           {
            "line": {
             "colorbar": {
              "outlinewidth": 0,
              "ticks": ""
             }
            },
            "type": "parcoords"
           }
          ],
          "pie": [
           {
            "automargin": true,
            "type": "pie"
           }
          ],
          "scatter": [
           {
            "fillpattern": {
             "fillmode": "overlay",
             "size": 10,
             "solidity": 0.2
            },
            "type": "scatter"
           }
          ],
          "scatter3d": [
           {
            "line": {
             "colorbar": {
              "outlinewidth": 0,
              "ticks": ""
             }
            },
            "marker": {
             "colorbar": {
              "outlinewidth": 0,
              "ticks": ""
             }
            },
            "type": "scatter3d"
           }
          ],
          "scattercarpet": [
           {
            "marker": {
             "colorbar": {
              "outlinewidth": 0,
              "ticks": ""
             }
            },
            "type": "scattercarpet"
           }
          ],
          "scattergeo": [
           {
            "marker": {
             "colorbar": {
              "outlinewidth": 0,
              "ticks": ""
             }
            },
            "type": "scattergeo"
           }
          ],
          "scattergl": [
           {
            "marker": {
             "colorbar": {
              "outlinewidth": 0,
              "ticks": ""
             }
            },
            "type": "scattergl"
           }
          ],
          "scattermap": [
           {
            "marker": {
             "colorbar": {
              "outlinewidth": 0,
              "ticks": ""
             }
            },
            "type": "scattermap"
           }
          ],
          "scattermapbox": [
           {
            "marker": {
             "colorbar": {
              "outlinewidth": 0,
              "ticks": ""
             }
            },
            "type": "scattermapbox"
           }
          ],
          "scatterpolar": [
           {
            "marker": {
             "colorbar": {
              "outlinewidth": 0,
              "ticks": ""
             }
            },
            "type": "scatterpolar"
           }
          ],
          "scatterpolargl": [
           {
            "marker": {
             "colorbar": {
              "outlinewidth": 0,
              "ticks": ""
             }
            },
            "type": "scatterpolargl"
           }
          ],
          "scatterternary": [
           {
            "marker": {
             "colorbar": {
              "outlinewidth": 0,
              "ticks": ""
             }
            },
            "type": "scatterternary"
           }
          ],
          "surface": [
           {
            "colorbar": {
             "outlinewidth": 0,
             "ticks": ""
            },
            "colorscale": [
             [
              0,
              "#0d0887"
             ],
             [
              0.1111111111111111,
              "#46039f"
             ],
             [
              0.2222222222222222,
              "#7201a8"
             ],
             [
              0.3333333333333333,
              "#9c179e"
             ],
             [
              0.4444444444444444,
              "#bd3786"
             ],
             [
              0.5555555555555556,
              "#d8576b"
             ],
             [
              0.6666666666666666,
              "#ed7953"
             ],
             [
              0.7777777777777778,
              "#fb9f3a"
             ],
             [
              0.8888888888888888,
              "#fdca26"
             ],
             [
              1,
              "#f0f921"
             ]
            ],
            "type": "surface"
           }
          ],
          "table": [
           {
            "cells": {
             "fill": {
              "color": "#EBF0F8"
             },
             "line": {
              "color": "white"
             }
            },
            "header": {
             "fill": {
              "color": "#C8D4E3"
             },
             "line": {
              "color": "white"
             }
            },
            "type": "table"
           }
          ]
         },
         "layout": {
          "annotationdefaults": {
           "arrowcolor": "#2a3f5f",
           "arrowhead": 0,
           "arrowwidth": 1
          },
          "autotypenumbers": "strict",
          "coloraxis": {
           "colorbar": {
            "outlinewidth": 0,
            "ticks": ""
           }
          },
          "colorscale": {
           "diverging": [
            [
             0,
             "#8e0152"
            ],
            [
             0.1,
             "#c51b7d"
            ],
            [
             0.2,
             "#de77ae"
            ],
            [
             0.3,
             "#f1b6da"
            ],
            [
             0.4,
             "#fde0ef"
            ],
            [
             0.5,
             "#f7f7f7"
            ],
            [
             0.6,
             "#e6f5d0"
            ],
            [
             0.7,
             "#b8e186"
            ],
            [
             0.8,
             "#7fbc41"
            ],
            [
             0.9,
             "#4d9221"
            ],
            [
             1,
             "#276419"
            ]
           ],
           "sequential": [
            [
             0,
             "#0d0887"
            ],
            [
             0.1111111111111111,
             "#46039f"
            ],
            [
             0.2222222222222222,
             "#7201a8"
            ],
            [
             0.3333333333333333,
             "#9c179e"
            ],
            [
             0.4444444444444444,
             "#bd3786"
            ],
            [
             0.5555555555555556,
             "#d8576b"
            ],
            [
             0.6666666666666666,
             "#ed7953"
            ],
            [
             0.7777777777777778,
             "#fb9f3a"
            ],
            [
             0.8888888888888888,
             "#fdca26"
            ],
            [
             1,
             "#f0f921"
            ]
           ],
           "sequentialminus": [
            [
             0,
             "#0d0887"
            ],
            [
             0.1111111111111111,
             "#46039f"
            ],
            [
             0.2222222222222222,
             "#7201a8"
            ],
            [
             0.3333333333333333,
             "#9c179e"
            ],
            [
             0.4444444444444444,
             "#bd3786"
            ],
            [
             0.5555555555555556,
             "#d8576b"
            ],
            [
             0.6666666666666666,
             "#ed7953"
            ],
            [
             0.7777777777777778,
             "#fb9f3a"
            ],
            [
             0.8888888888888888,
             "#fdca26"
            ],
            [
             1,
             "#f0f921"
            ]
           ]
          },
          "colorway": [
           "#636efa",
           "#EF553B",
           "#00cc96",
           "#ab63fa",
           "#FFA15A",
           "#19d3f3",
           "#FF6692",
           "#B6E880",
           "#FF97FF",
           "#FECB52"
          ],
          "font": {
           "color": "#2a3f5f"
          },
          "geo": {
           "bgcolor": "white",
           "lakecolor": "white",
           "landcolor": "white",
           "showlakes": true,
           "showland": true,
           "subunitcolor": "#C8D4E3"
          },
          "hoverlabel": {
           "align": "left"
          },
          "hovermode": "closest",
          "mapbox": {
           "style": "light"
          },
          "paper_bgcolor": "white",
          "plot_bgcolor": "white",
          "polar": {
           "angularaxis": {
            "gridcolor": "#EBF0F8",
            "linecolor": "#EBF0F8",
            "ticks": ""
           },
           "bgcolor": "white",
           "radialaxis": {
            "gridcolor": "#EBF0F8",
            "linecolor": "#EBF0F8",
            "ticks": ""
           }
          },
          "scene": {
           "xaxis": {
            "backgroundcolor": "white",
            "gridcolor": "#DFE8F3",
            "gridwidth": 2,
            "linecolor": "#EBF0F8",
            "showbackground": true,
            "ticks": "",
            "zerolinecolor": "#EBF0F8"
           },
           "yaxis": {
            "backgroundcolor": "white",
            "gridcolor": "#DFE8F3",
            "gridwidth": 2,
            "linecolor": "#EBF0F8",
            "showbackground": true,
            "ticks": "",
            "zerolinecolor": "#EBF0F8"
           },
           "zaxis": {
            "backgroundcolor": "white",
            "gridcolor": "#DFE8F3",
            "gridwidth": 2,
            "linecolor": "#EBF0F8",
            "showbackground": true,
            "ticks": "",
            "zerolinecolor": "#EBF0F8"
           }
          },
          "shapedefaults": {
           "line": {
            "color": "#2a3f5f"
           }
          },
          "ternary": {
           "aaxis": {
            "gridcolor": "#DFE8F3",
            "linecolor": "#A2B1C6",
            "ticks": ""
           },
           "baxis": {
            "gridcolor": "#DFE8F3",
            "linecolor": "#A2B1C6",
            "ticks": ""
           },
           "bgcolor": "white",
           "caxis": {
            "gridcolor": "#DFE8F3",
            "linecolor": "#A2B1C6",
            "ticks": ""
           }
          },
          "title": {
           "x": 0.05
          },
          "xaxis": {
           "automargin": true,
           "gridcolor": "#EBF0F8",
           "linecolor": "#EBF0F8",
           "ticks": "",
           "title": {
            "standoff": 15
           },
           "zerolinecolor": "#EBF0F8",
           "zerolinewidth": 2
          },
          "yaxis": {
           "automargin": true,
           "gridcolor": "#EBF0F8",
           "linecolor": "#EBF0F8",
           "ticks": "",
           "title": {
            "standoff": 15
           },
           "zerolinecolor": "#EBF0F8",
           "zerolinewidth": 2
          }
         }
        },
        "xaxis": {
         "anchor": "y",
         "domain": [
          0,
          1
         ],
         "gridcolor": "lightgrey",
         "tickprefix": "$",
         "title": {
          "text": "Stock Price at Expiration"
         }
        },
        "yaxis": {
         "anchor": "x",
         "domain": [
          0.28,
          1
         ],
         "gridcolor": "lightgrey",
         "tickformat": ",.0f",
         "tickprefix": "$",
         "title": {
          "text": "Profit/Loss"
         },
         "zerolinecolor": "black",
         "zerolinewidth": 2
        }
       }
      }
     },
     "metadata": {},
     "output_type": "display_data"
    }
   ],
   "source": [
    "iron_condor = OptionsStrategy(\"Iron Condor\")\n",
    "iron_condor.add_option('put', 90, 1.5, position=-1)  # Short put\n",
    "iron_condor.add_option('put', 80, 0.5)  # Long put\n",
    "iron_condor.add_option('call', 110, 1.5, position=-1)  # Short call\n",
    "iron_condor.add_option('call', 120, 0.5)  # Long call\n",
    "\n",
    "ploting.plot_strategy_pnl_plotly(\n",
    "    [iron_condor],\n",
    "    (0,200,0.5),\n",
    "    \"Iron Condor\"\n",
    ")"
   ]
  }
 ],
 "metadata": {
  "kernelspec": {
   "display_name": "venv",
   "language": "python",
   "name": "python3"
  },
  "language_info": {
   "codemirror_mode": {
    "name": "ipython",
    "version": 3
   },
   "file_extension": ".py",
   "mimetype": "text/x-python",
   "name": "python",
   "nbconvert_exporter": "python",
   "pygments_lexer": "ipython3",
   "version": "3.12.9"
  }
 },
 "nbformat": 4,
 "nbformat_minor": 5
}
